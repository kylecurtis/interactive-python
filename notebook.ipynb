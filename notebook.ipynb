{
 "cells": [
  {
   "cell_type": "markdown",
   "metadata": {},
   "source": [
    "# Interactive Python <a id=\"title\"></a>\n",
    "\n",
    "https://github.com/kylecurtis/interactive-python"
   ]
  },
  {
   "cell_type": "markdown",
   "metadata": {},
   "source": [
    "<img src=\"./images/python-bg.jpeg\">\n",
    "\n",
    "## TABLE OF CONTENTS <a id=\"toc\"></a>\n",
    "\n",
    "![Static Badge](https://img.shields.io/badge/Python_Version-3.12+-yellow) ![Static Badge](https://img.shields.io/badge/Work_In_Progress-WIP-orange)\n",
    "\n",
    "- Introduction to Python\n",
    "\n",
    "  - Overview of Python\n",
    "  - [Python Keywords](#keywords)\n",
    "  - [Hello, World!](#hello-world)\n",
    "\n",
    "- Python Basics\n",
    "  - Variables\n",
    "    - [Declaring & Assigning Variables](#declaring-variables)\n",
    "    - [Naming Conventions](#naming-conventions)\n",
    "    - [Dynamic Typing](#dynamic-typing)\n",
    "    - [Mutability](#mutability)\n",
    "    - [Scope & Lifetime](#scope-and-lifetime)\n",
    "    - [Global & Nonlocal](#global-and-nonlocal)\n",
    "    - [Deleting Variables](#delete-variable)\n",
    "  - Data Types\n",
    "    - [Integer (int)](#integers)\n",
    "      - [Literals](#integer-literals)\n",
    "      - [Range and Overflow](#integer-range-and-overflow)\n",
    "      - [Arithmetic Operations](#integer-arithmetic)\n",
    "      - [Conversion and Casting](#integer-conversion-and-casting)\n",
    "      - [Integer Functions](#integer-functions)\n",
    "      - [Binary, Octal, and Hexadecimal Function](#binary-octal-and-hex-functions)\n",
    "    - Float (float)\n",
    "    - Bool (bool)\n",
    "    - String (str)\n",
    "    - None (NoneType)\n",
    "    - Bytes (bytes)\n",
    "    - Bytearray (bytearray)\n",
    "    - MemoryView (memoryview)\n",
    "    - Complex (complex)\n",
    "    - Type Conversion\n",
    "  - Operators\n",
    "    - Arithmetic Operators\n",
    "    - Assignment Operators\n",
    "    - Comparison Operators\n",
    "    - Logical Operators\n",
    "    - Bitwise Operators\n",
    "    - Membership Operators\n",
    "    - Identity Operators\n",
    "    - Operator Precedence\n",
    "  - Input and Output\n",
    "    - print() Function\n",
    "    - input() Function\n",
    "    - Formatting Output\n",
    "  - Control Flow\n",
    "    - if, elif, and else Statements\n",
    "    - for Loops\n",
    "    - while Loops\n",
    "    - break and continue\n",
    "    - Pass Statement\n",
    "    - Loop Else Clause\n",
    "\n",
    "#### Data Structures\n",
    "\n",
    "- Lists\n",
    "  - Creating Lists\n",
    "  - Accessing and Modifying Lists\n",
    "  - List Methods and Functions\n",
    "  - List Comprehensions\n",
    "- Tuples\n",
    "  - Creating and Accessing Tuples\n",
    "  - Immutability of Tuples\n",
    "  - Tuple Methods\n",
    "- Dictionaries\n",
    "  - Creating and Using Dictionaries\n",
    "  - Dictionary Methods and Operations\n",
    "  - Dictionary Comprehensions\n",
    "- Sets\n",
    "  - Creating Sets\n",
    "  - Set Operations and Methods\n",
    "- Strings\n",
    "  - String Manipulation and Operations\n",
    "  - String Formatting\n",
    "  - Regular Expressions\n",
    "- Other Data Structures\n",
    "  - Collections Module (Counter, defaultdict, OrderedDict)\n",
    "  - Itertools Module\n",
    "  - Generators and Iterators\n",
    "  - Data Classes (Python 3.7+)\n",
    "\n",
    "#### Functions and Modules\n",
    "\n",
    "- Defining Functions\n",
    "  - Function Arguments and Return Values\n",
    "  - Default Arguments and Keyword Arguments\n",
    "  - Variable-length Arguments (\\*args and \\*\\*kwargs)\n",
    "  - Anonymous (Lambda) Functions\n",
    "  - Function Documentation (Docstrings)\n",
    "- Scope and Namespace\n",
    "  - Local, Nonlocal, and Global Variables\n",
    "  - Understanding Namespaces\n",
    "- Modules and Packages\n",
    "  - Creating Modules\n",
    "  - Importing Modules\n",
    "  - Creating Packages\n",
    "  - Module Search Path\n",
    "- Error Handling and Exceptions\n",
    "  - Basic Exception Handling (try, except)\n",
    "  - Multiple Exception Handling\n",
    "  - Custom Exceptions\n",
    "  - The finally Block\n",
    "- File Handling\n",
    "  - Reading and Writing Files\n",
    "  - Working with File Paths\n",
    "  - File Iteration and Manipulation\n",
    "  - Context Managers for File Operations\n",
    "\n",
    "#### Advanced Python Concepts\n",
    "\n",
    "- Object-Oriented Programming (OOP)\n",
    "  - Defining Classes and Objects\n",
    "  - Inheritance and Polymorphism\n",
    "  - Encapsulation and Abstraction\n",
    "  - Special (Magic) Methods\n",
    "  - Class and Static Methods\n",
    "- Decorators\n",
    "  - Understanding Decorators\n",
    "  - Function Decorators\n",
    "  - Class Decorators\n",
    "- Iterators and Generators\n",
    "  - Creating Iterators\n",
    "  - Creating Generators\n",
    "  - Generator Expressions\n",
    "- Context Managers\n",
    "  - Understanding Context Managers\n",
    "  - Implementing Context Managers\n",
    "- Metaprogramming\n",
    "  - Understanding Metaclasses\n",
    "  - Creating Metaclasses\n",
    "- Concurrency and Parallelism\n",
    "  - Threading\n",
    "  - Multiprocessing\n",
    "  - Asyncio and Asynchronous Programming\n",
    "- Networking and Internet\n",
    "  - Socket Programming\n",
    "  - Web Clients and Servers\n",
    "  - Working with APIs\n",
    "\n",
    "#### 6. Python Standard Library\n",
    "\n",
    "- Overview of the Standard Library\n",
    "- Working with Text (re, textwrap, etc.)\n",
    "- Data Compression and Archiving (zipfile, gzip, etc.)\n",
    "- File and Directory Access (os, shutil, etc.)\n",
    "- Data Persistence (pickle, dbm, etc.)\n",
    "- Data Manipulation (csv, json, xml, etc.)\n",
    "- Cryptographic Services (hashlib, hmac, etc.)\n",
    "- Operating System Services (os, sys, platform, etc.)\n",
    "- Internet Data Handling (urllib, http, smtplib, etc.)\n",
    "- Structured Markup Processing Tools (html, xml, etc.)\n",
    "- Internet Protocols and Support (http, ftplib, socket, etc.)\n",
    "- Multimedia Services (audio, image, colorsys, etc.)\n",
    "- Internationalization and Localization (locale, gettext, etc.)\n",
    "- Program Frameworks (cmd, tkinter, etc.)\n",
    "- Graphical User Interfaces (tkinter, etc.)\n",
    "- Development Tools (debugging, profiling, etc.)\n",
    "- Runtime Features (sys, os, time, argparse, etc.)\n",
    "\n",
    "#### Debugging, Testing, and Profiling\n",
    "\n",
    "- Debugging Techniques\n",
    "  - Using the Python Debugger (pdb)\n",
    "  - Debugging with IDEs\n",
    "- Writing and Running Tests\n",
    "  - The unittest Framework\n",
    "  - pytest Framework\n",
    "- Profiling and Optimizing Python Code\n",
    "  - Profiling with cProfile\n",
    "  - Memory Profiling\n",
    "  - Optimizing Python Code\n",
    "\n",
    "#### Python in Practice\n",
    "\n",
    "- Best Practices in Python\n",
    "  - Writing Pythonic Code\n",
    "  - Code Style and PEP 8\n",
    "  - Code Reviews and Refactoring\n",
    "- Advanced Topics in Python\n",
    "  - Dynamic Typing and Static Analysis\n",
    "  - Python and Machine Learning\n",
    "  - Scripting with Python\n",
    "- Exploring Python's Future\n",
    "  - Upcoming Features and Enhancements\n",
    "  - The Evolution of Python\n",
    "\n",
    "#### Appendices\n",
    "\n",
    "- Python Resources and Community\n",
    "- Python Cheatsheets and Quick References\n",
    "- Glossary of Python Terms\n",
    "- Index\n"
   ]
  },
  {
   "cell_type": "markdown",
   "metadata": {},
   "source": [
    "<br>\n",
    "\n",
    "---\n",
    "\n",
    "<br>"
   ]
  },
  {
   "cell_type": "markdown",
   "metadata": {},
   "source": [
    "## Python Keywords <a id=\"keywords\"></a>\n",
    "\n",
    "Python keywords are reserved words that play a crucial role in the syntax of the Python language. These keywords have specific meanings and functions, and are integral to the language's structure. They are used to define the flow of control, functions, classes, and other aspects of the language. Importantly, these keywords cannot be used as names for variables, functions, or classes.\n",
    "\n",
    "#### Listing All Python Keywords\n",
    "\n",
    "To view all the keywords in modern Python, you can use the keyword module. The following code snippet will print out the complete list of keywords:\n"
   ]
  },
  {
   "cell_type": "code",
   "execution_count": null,
   "metadata": {},
   "outputs": [],
   "source": [
    "import keyword\n",
    "\n",
    "# Display all Python keywords\n",
    "print(f\"The {len(keyword.kwlist)} keywords in Python are:\")\n",
    "print(keyword.kwlist)"
   ]
  },
  {
   "cell_type": "markdown",
   "metadata": {},
   "source": [
    "[⬆️ up](#title)"
   ]
  },
  {
   "cell_type": "markdown",
   "metadata": {},
   "source": [
    "<br>\n",
    "\n",
    "---\n",
    "\n",
    "<br>"
   ]
  },
  {
   "cell_type": "markdown",
   "metadata": {},
   "source": [
    "## Hello, World! <a id=\"hello-world\"></a>\n",
    "\n",
    "The \"Hello, World!\" program is traditionally used as a simple demonstration in programming languages. It's a basic script that displays the text \"Hello, World!\" to the user. Writing a \"Hello, World!\" program in Python looks like this:"
   ]
  },
  {
   "cell_type": "code",
   "execution_count": null,
   "metadata": {},
   "outputs": [],
   "source": [
    "print(\"Hello, World!\")"
   ]
  },
  {
   "cell_type": "markdown",
   "metadata": {},
   "source": [
    "This code uses the print() function, which outputs the specified message to the screen. In this case, it will display \"Hello, World!\"."
   ]
  },
  {
   "cell_type": "markdown",
   "metadata": {},
   "source": [
    "[⬆️ up](#title)"
   ]
  },
  {
   "cell_type": "markdown",
   "metadata": {},
   "source": [
    "<br>\n",
    "\n",
    "---\n",
    "\n",
    "<br>"
   ]
  },
  {
   "cell_type": "markdown",
   "metadata": {},
   "source": [
    "## Variables\n",
    "\n",
    "Variables in Python are fundamental constructs used to store data that can be referenced and manipulated within a program. They are essentially symbolic names attached to a location in memory where data is stored.\n",
    "\n",
    "<br>\n",
    "\n",
    "#### Declaring and Assigning Variables <a id=\"declaring-variables\"></a>\n",
    "\n",
    "In Python, variables are declared by assigning them a value using the = operator. Python is dynamically-typed, which means you don't need to explicitly declare the data type of a variable."
   ]
  },
  {
   "cell_type": "code",
   "execution_count": null,
   "metadata": {},
   "outputs": [],
   "source": [
    "# Declaring variables\n",
    "star = \"*\"\n",
    "num = 5\n",
    "\n",
    "# Using variables\n",
    "print(star * num)"
   ]
  },
  {
   "cell_type": "markdown",
   "metadata": {},
   "source": [
    "[⬆️ up](#title)\n",
    "\n",
    "<br>\n",
    "\n",
    "---\n",
    "\n",
    "<br>"
   ]
  },
  {
   "cell_type": "markdown",
   "metadata": {},
   "source": [
    "#### Naming Conventions <a id=\"naming-conventions\"></a>\n",
    "\n",
    "- Naming Rules: Variable names in Python can only contain letters (a - z, A - B), digits (0-9), or underscores (_). However, they cannot start with a digit.\n",
    "\n",
    "- Case Sensitivity: Python is case-sensitive, which means `Var` and `var` are two different variables.\n",
    "    \n",
    "- Conventions: Typically, variable names should be descriptive and use lower case with underscores (snake_case), e.g., my_variable."
   ]
  },
  {
   "cell_type": "code",
   "execution_count": null,
   "metadata": {},
   "outputs": [],
   "source": [
    "# VALID NAMING CONVENTIONS\n",
    "valid_variable = True\n",
    "just_1_word = \"hello\"\n",
    "x = 32"
   ]
  },
  {
   "cell_type": "code",
   "execution_count": null,
   "metadata": {},
   "outputs": [],
   "source": [
    "# INVALID NAMING CONVENTIONS\n",
    "1st_name = \"John\" # starts with a number"
   ]
  },
  {
   "cell_type": "markdown",
   "metadata": {},
   "source": [
    "[⬆️ up](#title)"
   ]
  },
  {
   "cell_type": "markdown",
   "metadata": {},
   "source": [
    "<br>\n",
    "\n",
    "---\n",
    "\n",
    "<br>"
   ]
  },
  {
   "cell_type": "markdown",
   "metadata": {},
   "source": [
    "#### Dynamic Typing <a id=\"dynamic-typing\"></a>\n",
    "\n",
    "Python is dynamically typed, meaning you can reassign variables to different data types. This flexibility is powerful but can lead to type-related errors if not managed carefully."
   ]
  },
  {
   "cell_type": "code",
   "execution_count": null,
   "metadata": {},
   "outputs": [],
   "source": [
    "my_var = 10     # Initially an integer\n",
    "print(my_var)\n",
    "\n",
    "my_var = \"Hello\"  # Reassigned to a string\n",
    "print(my_var)"
   ]
  },
  {
   "cell_type": "markdown",
   "metadata": {},
   "source": [
    "[⬆️ up](#title)\n",
    "\n",
    "<br>\n",
    "\n",
    "---\n",
    "\n",
    "<br>"
   ]
  },
  {
   "cell_type": "markdown",
   "metadata": {},
   "source": [
    "#### Mutable vs Immutable Data Types <a id=\"mutability\"></a>\n",
    "\n",
    "- Mutable Types: Can be changed after creation (e.g., lists, dictionaries).\n",
    "\n",
    "- Immutable Types: Cannot be altered after creation (e.g., integers, strings, tuples).\n",
    "\n",
    "<br>\n",
    "\n",
    "[⬆️ up](#title)\n",
    "\n",
    "<br>\n",
    "\n",
    "---\n",
    "\n",
    "<br>\n",
    "\n",
    "#### Variable Scope and Lifetime <a id=\"scope-and-lifetime\"></a>\n",
    "\n",
    "- Local Scope: Variables defined within a function are local to that function.\n",
    "- Global Scope: Variables defined outside of any function have a global scope.\n",
    "- Lifetime: The lifetime of a variable is as long as the function or the program is running.\n",
    "\n",
    "<br>\n",
    "\n",
    "[⬆️ up](#title)\n",
    "\n",
    "<br>\n",
    "\n",
    "---\n",
    "\n",
    "<br>\n",
    "\n",
    "#### The global and nonlocal Keywords <a id=\"global-and-nonlocal\"></a>\n",
    "\n",
    "- Use `global` to declare a variable inside a function as global.\n",
    "\n",
    "- Use `nonlocal` in nested functions to refer to variables in the outer function (non-global).\n",
    "\n",
    "<br>\n",
    "\n",
    "[⬆️ up](#title)\n",
    "\n",
    "<br>\n",
    "\n",
    "---\n",
    "\n",
    "<br>\n",
    "\n",
    "#### Deleting Variables <a id=\"delete-variable\"></a>\n",
    "\n",
    "Variables in Python can be deleted from the memory using the del keyword."
   ]
  },
  {
   "cell_type": "code",
   "execution_count": null,
   "metadata": {},
   "outputs": [],
   "source": [
    "x = 32\n",
    "del x"
   ]
  },
  {
   "cell_type": "markdown",
   "metadata": {},
   "source": [
    "[⬆️ up](#title)\n",
    "\n",
    "<br>\n",
    "\n",
    "---\n",
    "\n",
    "<br>"
   ]
  },
  {
   "cell_type": "markdown",
   "metadata": {},
   "source": [
    "# Integers (int) <a id=\"integers\"></a>\n",
    "\n",
    "Integers in Python are whole numbers that can be positive, negative, or zero.\n",
    "\n",
    "Integers are immutable, meaning their value cannot be changed once created. Operations on integers return new integer objects.\n",
    "\n",
    "<br>\n",
    "\n",
    "#### Representation of Integers\n",
    "\n",
    "#### Literals: <a id=\"literals\"></a>\n",
    "\n",
    " Integers can be represented in different numeral systems including decimal, binary (prefixed with 0b), octal (prefixed with 0o), and hexadecimal (prefixed with 0x).\n"
   ]
  },
  {
   "cell_type": "code",
   "execution_count": null,
   "metadata": {},
   "outputs": [],
   "source": [
    "decimal = 10\n",
    "binary = 0b1010\n",
    "octal = 0o12\n",
    "hexadecimal = 0xA"
   ]
  },
  {
   "cell_type": "markdown",
   "metadata": {},
   "source": [
    "[⬆️ up](#title)\n",
    "\n",
    "<br>\n",
    "\n",
    "---\n",
    "\n",
    "<br>\n",
    "\n",
    "#### Integer Range & Overflow <a id=\"int-range-and-overflow\"></a>\n",
    "\n",
    "Python integers have unlimited precision, meaning there is no fixed minimum or maximum limit. The only limitation is the machine's memory.\n",
    "\n",
    "In many programming languages, integers have a fixed size, leading to overflow issues. In Python, integers can grow arbitrarily in size, avoiding overflow errors but consuming more memory.\n",
    "\n",
    "[⬆️ up](#title)\n",
    "\n",
    "<br>\n",
    "\n",
    "---\n",
    "\n",
    "<br>\n",
    "\n",
    "\n",
    "#### Arithmetic Operations <a id=\"int-arithmetic\"></a>\n",
    "\n",
    "Integers support all basic arithmetic operations: addition +, subtraction -, multiplication *, division /, floor division //, modulus %, and exponentiation **.\n"
   ]
  },
  {
   "cell_type": "code",
   "execution_count": null,
   "metadata": {},
   "outputs": [],
   "source": [
    "x,y = 10, 3\n",
    "\n",
    "print(x + y)  # Addition\n",
    "print(x - y)  # Subtraction\n",
    "print(x * y)  # Multiplication\n",
    "print(x / y)  # Division\n",
    "print(x // y) # Floor Division\n",
    "print(x % y)  # Modulus\n",
    "print(x ** y) # Exponentiation"
   ]
  },
  {
   "cell_type": "markdown",
   "metadata": {},
   "source": [
    "[⬆️ up](#title)\n",
    "\n",
    "<br>\n",
    "\n",
    "---\n",
    "\n",
    "<br>\n",
    "\n",
    "#### Integer Conversion and Casting <a id=\"integer-conversion-and-casting\"></a>\n",
    "\n",
    "You can convert other data types to integers using the int() function. This is useful for converting floats or strings to integers."
   ]
  },
  {
   "cell_type": "code",
   "execution_count": null,
   "metadata": {},
   "outputs": [],
   "source": [
    "float_number = 3.6\n",
    "print(int(float_number))  # Converts float to int\n",
    "\n",
    "string_number = \"5\"\n",
    "print(int(string_number))  # Converts string to int"
   ]
  },
  {
   "cell_type": "markdown",
   "metadata": {},
   "source": [
    "[⬆️ up](#title)\n",
    "\n",
    "<br>\n",
    "\n",
    "---\n",
    "\n",
    "<br>\n",
    "\n",
    "#### Integer Functions <a id=\"integer-functions\"></a>\n",
    "\n",
    "`abs(x)`: Returns the absolute value of x.\n",
    "\n",
    "`divmod(x, y)`: Returns a tuple (x // y, x % y).\n",
    "\n",
    "`pow(x, y[, z])`: Returns x to the power of y; if z is present, returns x to the power of y, modulo z.\n",
    "\n",
    "[⬆️ up](#title)\n",
    "\n",
    "<br>\n",
    "\n",
    "---\n",
    "\n",
    "<br>\n",
    "\n",
    "#### Binary, Octal, and Hexadecimal Functions <a id=\"binary-octal-and-hex-functions\"></a>\n",
    "\n",
    "`bin(x)`: Converts an integer to a binary string.\n",
    "\n",
    "`oct(x)`: Converts an integer to an octal string.\n",
    "\n",
    "`hex(x)`: Converts an integer to a hexadecimal string."
   ]
  },
  {
   "cell_type": "code",
   "execution_count": null,
   "metadata": {},
   "outputs": [],
   "source": [
    "num = 10\n",
    "print(bin(num))  # Binary representation\n",
    "print(oct(num))  # Octal representation\n",
    "print(hex(num))  # Hexadecimal representation"
   ]
  },
  {
   "cell_type": "markdown",
   "metadata": {},
   "source": [
    "[⬆️ up](#title)\n",
    "\n",
    "<br>\n",
    "\n",
    "---\n",
    "\n",
    "<br>"
   ]
  }
 ],
 "metadata": {
  "kernelspec": {
   "display_name": "venv",
   "language": "python",
   "name": "python3"
  },
  "language_info": {
   "codemirror_mode": {
    "name": "ipython",
    "version": 3
   },
   "file_extension": ".py",
   "mimetype": "text/x-python",
   "name": "python",
   "nbconvert_exporter": "python",
   "pygments_lexer": "ipython3",
   "version": "3.12.0"
  }
 },
 "nbformat": 4,
 "nbformat_minor": 2
}
