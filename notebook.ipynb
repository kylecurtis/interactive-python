{
 "cells": [
  {
   "cell_type": "markdown",
   "metadata": {},
   "source": [
    "# Interactive Python Notebook"
   ]
  },
  {
   "cell_type": "markdown",
   "metadata": {},
   "source": [
    "<img src=\"./images/python-bg.jpeg\">\n",
    "\n",
    "![Static Badge](https://img.shields.io/badge/Python_Version-3.12+-yellow) ![Static Badge](https://img.shields.io/badge/Work_In_Progress-WIP-orange)\n",
    "\n",
    "Interactive Jupyter notebook for learning the modern Python programming language 🐍. \n",
    "\n",
    "Source: https://github.com/kylecurtis/interactive-python\n",
    "\n",
    "Report Issues here: https://github.com/kylecurtis/interactive-python/issues"
   ]
  },
  {
   "cell_type": "markdown",
   "metadata": {},
   "source": [
    "<br>\n",
    "\n",
    "---\n",
    "\n",
    "<br>"
   ]
  },
  {
   "cell_type": "markdown",
   "metadata": {},
   "source": [
    "## Python Keywords\n",
    "\n",
    "Python keywords are reserved words that play a crucial role in the syntax of the Python language. These keywords have specific meanings and functions, and are integral to the language's structure. They are used to define the flow of control, functions, classes, and other aspects of the language. Importantly, these keywords cannot be used as names for variables, functions, or classes."
   ]
  },
  {
   "cell_type": "markdown",
   "metadata": {},
   "source": [
    "### Listing All Python Keywords\n",
    "\n",
    "To view all the keywords in modern Python, you can use the keyword module. The following code snippet will print out the complete list of keywords:"
   ]
  },
  {
   "cell_type": "code",
   "execution_count": null,
   "metadata": {},
   "outputs": [],
   "source": [
    "import keyword\n",
    "\n",
    "# Display all Python keywords\n",
    "print(f\"The {len(keyword.kwlist)} keywords in Python are:\")\n",
    "print(keyword.kwlist)"
   ]
  },
  {
   "cell_type": "markdown",
   "metadata": {},
   "source": [
    "<br>\n",
    "\n",
    "---\n",
    "\n",
    "<br>"
   ]
  },
  {
   "cell_type": "markdown",
   "metadata": {},
   "source": [
    "## Hello, World!\n",
    "\n",
    "The \"Hello, World!\" program is traditionally used as a simple demonstration in programming languages. It's a basic script that displays the text \"Hello, World!\" to the user. Writing a \"Hello, World!\" program in Python looks like this:"
   ]
  },
  {
   "cell_type": "code",
   "execution_count": null,
   "metadata": {},
   "outputs": [],
   "source": [
    "print(\"Hello, World!\")"
   ]
  },
  {
   "cell_type": "markdown",
   "metadata": {},
   "source": [
    "This code uses the print() function, which outputs the specified message to the screen. In this case, it will display \"Hello, World!\"."
   ]
  },
  {
   "cell_type": "markdown",
   "metadata": {},
   "source": [
    "<br>\n",
    "\n",
    "---\n",
    "\n",
    "<br>"
   ]
  },
  {
   "cell_type": "markdown",
   "metadata": {},
   "source": [
    "## Variables\n",
    "\n",
    "Variables in Python are fundamental constructs used to store data that can be referenced and manipulated within a program. They are essentially symbolic names attached to a location in memory where data is stored.\n",
    "\n",
    "<br>"
   ]
  },
  {
   "cell_type": "markdown",
   "metadata": {},
   "source": [
    "### Declaring and Assigning Variables\n",
    "\n",
    "In Python, variables are declared by assigning them a value using the = operator. Python is dynamically-typed, which means you don't need to explicitly declare the data type of a variable."
   ]
  },
  {
   "cell_type": "code",
   "execution_count": null,
   "metadata": {},
   "outputs": [],
   "source": [
    "# Declaring variables\n",
    "star = \"*\"\n",
    "num = 5\n",
    "\n",
    "# Using variables\n",
    "print(star * num)"
   ]
  },
  {
   "cell_type": "markdown",
   "metadata": {},
   "source": [
    "<br>"
   ]
  },
  {
   "cell_type": "markdown",
   "metadata": {},
   "source": [
    "### Assigning Multiple Variables\n",
    "\n",
    "You can also assign multiple variables on the same line:"
   ]
  },
  {
   "cell_type": "code",
   "execution_count": null,
   "metadata": {},
   "outputs": [],
   "source": [
    "x, y = 10, -2\n",
    "\n",
    "first_name, last_name = \"John\", \"Doe\""
   ]
  },
  {
   "cell_type": "markdown",
   "metadata": {},
   "source": [
    "<br>\n",
    "\n",
    "Although you can technically assign more than one variable on the same line, it's usually not recommended to do this unless working with data pairs."
   ]
  },
  {
   "cell_type": "markdown",
   "metadata": {},
   "source": [
    "<br>\n",
    "\n",
    "---\n",
    "\n",
    "<br>"
   ]
  },
  {
   "cell_type": "markdown",
   "metadata": {},
   "source": [
    "### Naming Conventions\n",
    "\n",
    "- Naming Rules: Variable names in Python can only contain letters (a - z, A - B), digits (0-9), or underscores (_). However, they cannot start with a digit.\n",
    "\n",
    "- Case Sensitivity: Python is case-sensitive, which means `Var` and `var` are two different variables.\n",
    "    \n",
    "- Conventions: Typically, variable names should be descriptive and use lower case with underscores (snake_case), e.g., my_variable."
   ]
  },
  {
   "cell_type": "code",
   "execution_count": null,
   "metadata": {},
   "outputs": [],
   "source": [
    "# VALID NAMING CONVENTIONS\n",
    "valid_variable = True\n",
    "just_1_word = \"hello\"\n",
    "x = 32"
   ]
  },
  {
   "cell_type": "code",
   "execution_count": null,
   "metadata": {},
   "outputs": [],
   "source": [
    "# INVALID NAMING CONVENTIONS\n",
    "1st_name = \"John\" # starts with a number"
   ]
  },
  {
   "cell_type": "markdown",
   "metadata": {},
   "source": [
    "<br>\n",
    "\n",
    "---\n",
    "\n",
    "<br>"
   ]
  },
  {
   "cell_type": "markdown",
   "metadata": {},
   "source": [
    "### Dynamic Typing\n",
    "\n",
    "Python is dynamically typed, meaning you can reassign variables to different data types. This flexibility is powerful but can lead to type-related errors if not managed carefully."
   ]
  },
  {
   "cell_type": "code",
   "execution_count": null,
   "metadata": {},
   "outputs": [],
   "source": [
    "my_var = 10     # Initially an integer\n",
    "print(my_var)\n",
    "\n",
    "my_var = \"Hello\"  # Reassigned to a string\n",
    "print(my_var)"
   ]
  },
  {
   "cell_type": "markdown",
   "metadata": {},
   "source": [
    "<br>\n",
    "\n",
    "---\n",
    "\n",
    "<br>"
   ]
  },
  {
   "cell_type": "markdown",
   "metadata": {},
   "source": [
    "### Mutable vs Immutable Data Types\n",
    "\n",
    "- Mutable Types: Can be changed after creation (e.g., lists, dictionaries).\n",
    "\n",
    "- Immutable Types: Cannot be altered after creation (e.g., integers, strings, tuples)."
   ]
  },
  {
   "cell_type": "markdown",
   "metadata": {},
   "source": [
    "<br>\n",
    "\n",
    "---\n",
    "\n",
    "<br>"
   ]
  },
  {
   "cell_type": "markdown",
   "metadata": {},
   "source": [
    "### Variable Scope and Lifetime\n",
    "\n",
    "- Local Scope: Variables defined within a function are local to that function.\n",
    "  \n",
    "- Global Scope: Variables defined outside of any function have a global scope.\n",
    "  \n",
    "- Lifetime: The lifetime of a variable is as long as the function or the program is running."
   ]
  },
  {
   "cell_type": "markdown",
   "metadata": {},
   "source": [
    "<br>\n",
    "\n",
    "---\n",
    "\n",
    "<br>"
   ]
  },
  {
   "cell_type": "markdown",
   "metadata": {},
   "source": [
    "### The global and nonlocal Keywords\n",
    "\n",
    "- Use `global` to declare a variable inside a function as global.\n",
    "\n",
    "- Use `nonlocal` in nested functions to refer to variables in the outer function (non-global)."
   ]
  },
  {
   "cell_type": "markdown",
   "metadata": {},
   "source": [
    "<br>\n",
    "\n",
    "---\n",
    "\n",
    "<br>"
   ]
  },
  {
   "cell_type": "markdown",
   "metadata": {},
   "source": [
    "### Deleting Variables\n",
    "\n",
    "Variables in Python can be deleted from the memory using the del keyword."
   ]
  },
  {
   "cell_type": "code",
   "execution_count": null,
   "metadata": {},
   "outputs": [],
   "source": [
    "x = 32\n",
    "print(x) # 32\n",
    "\n",
    "del x\n",
    "print(x) # x is no longer defined"
   ]
  },
  {
   "cell_type": "markdown",
   "metadata": {},
   "source": [
    "<br>\n",
    "\n",
    "---\n",
    "\n",
    "<br>"
   ]
  },
  {
   "cell_type": "markdown",
   "metadata": {},
   "source": [
    "## Integers (int)\n",
    "\n",
    "Integers in Python are whole numbers that can be positive, negative, or zero.\n",
    "\n",
    "Integers are immutable, meaning their value cannot be changed once created. Operations on integers return new integer objects.\n",
    "\n",
    "<br>"
   ]
  },
  {
   "cell_type": "markdown",
   "metadata": {},
   "source": [
    "### Literals\n",
    "\n",
    "Integers can be represented in different numeral systems including decimal, binary (prefixed with 0b), octal (prefixed with 0o), and hexadecimal (prefixed with 0x)."
   ]
  },
  {
   "cell_type": "code",
   "execution_count": null,
   "metadata": {},
   "outputs": [],
   "source": [
    "decimal = 10\n",
    "binary = 0b1010\n",
    "octal = 0o12\n",
    "hexadecimal = 0xA"
   ]
  },
  {
   "cell_type": "markdown",
   "metadata": {},
   "source": [
    "<br>\n",
    "\n",
    "---\n",
    "\n",
    "<br>"
   ]
  },
  {
   "cell_type": "markdown",
   "metadata": {},
   "source": [
    "### Integer Range & Overflow\n",
    "\n",
    "Python integers have unlimited precision, meaning there is no fixed minimum or maximum limit. The only limitation is the machine's memory.\n",
    "\n",
    "In many programming languages, integers have a fixed size, leading to overflow issues. In Python, integers can grow arbitrarily in size, avoiding overflow errors but consuming more memory."
   ]
  },
  {
   "cell_type": "markdown",
   "metadata": {},
   "source": [
    "<br>\n",
    "\n",
    "---\n",
    "\n",
    "<br>"
   ]
  },
  {
   "cell_type": "markdown",
   "metadata": {},
   "source": [
    "### Arithmetic Operations\n",
    "\n",
    "Integers support all basic arithmetic operations: addition +, subtraction -, multiplication *, division /, floor division //, modulus %, and exponentiation **.\n"
   ]
  },
  {
   "cell_type": "code",
   "execution_count": null,
   "metadata": {},
   "outputs": [],
   "source": [
    "x,y = 10, 3\n",
    "\n",
    "print(x + y)  # Addition\n",
    "print(x - y)  # Subtraction\n",
    "print(x * y)  # Multiplication\n",
    "print(x / y)  # Division\n",
    "print(x // y) # Floor Division\n",
    "print(x % y)  # Modulus\n",
    "print(x ** y) # Exponentiation"
   ]
  },
  {
   "cell_type": "markdown",
   "metadata": {},
   "source": [
    "<br>\n",
    "\n",
    "---\n",
    "\n",
    "<br>"
   ]
  },
  {
   "cell_type": "markdown",
   "metadata": {},
   "source": [
    "### Integer Conversion and Casting\n",
    "\n",
    "You can convert other data types to integers using the int() function. This is useful for converting floats or strings to integers."
   ]
  },
  {
   "cell_type": "code",
   "execution_count": null,
   "metadata": {},
   "outputs": [],
   "source": [
    "float_number = 3.6\n",
    "print(int(float_number))  # Converts float to int\n",
    "\n",
    "string_number = \"5\"\n",
    "print(int(string_number))  # Converts string to int"
   ]
  },
  {
   "cell_type": "markdown",
   "metadata": {},
   "source": [
    "<br>\n",
    "\n",
    "---\n",
    "\n",
    "<br>"
   ]
  },
  {
   "cell_type": "markdown",
   "metadata": {},
   "source": [
    "### Integer Functions\n",
    "\n",
    "`abs(x)`: Returns the absolute value of x.\n",
    "\n",
    "`divmod(x, y)`: Returns a tuple (x // y, x % y).\n",
    "\n",
    "`pow(x, y[, z])`: Returns x to the power of y; if z is present, returns x to the power of y, modulo z."
   ]
  },
  {
   "cell_type": "markdown",
   "metadata": {},
   "source": [
    "<br>\n",
    "\n",
    "---\n",
    "\n",
    "<br>"
   ]
  },
  {
   "cell_type": "markdown",
   "metadata": {},
   "source": [
    "### Binary, Octal, and Hexadecimal Functions\n",
    "\n",
    "`bin(x)`: Converts an integer to a binary string.\n",
    "\n",
    "`oct(x)`: Converts an integer to an octal string.\n",
    "\n",
    "`hex(x)`: Converts an integer to a hexadecimal string."
   ]
  },
  {
   "cell_type": "code",
   "execution_count": null,
   "metadata": {},
   "outputs": [],
   "source": [
    "num = 10\n",
    "\n",
    "print(bin(num))  # Binary representation\n",
    "print(oct(num))  # Octal representation\n",
    "print(hex(num))  # Hexadecimal representation"
   ]
  },
  {
   "cell_type": "markdown",
   "metadata": {},
   "source": [
    "<br>\n",
    "\n",
    "---\n",
    "\n",
    "<br>"
   ]
  },
  {
   "cell_type": "markdown",
   "metadata": {},
   "source": [
    "## Floats\n",
    "\n",
    "Floats, or floating-point numbers, represent real numbers in Python and contain a decimal point. They are crucial for precision arithmetic and scientific calculations. \n",
    "\n",
    "Python's floats are implemented using the double-precision format of the [IEEE 754 standard](https://en.wikipedia.org/wiki/IEEE_754), which is a specification for floating-point arithmetic used widely in computing systems.\n",
    "\n",
    "<br>"
   ]
  },
  {
   "cell_type": "markdown",
   "metadata": {},
   "source": [
    "### Declaring Floats\n",
    "\n",
    "Floats can be created directly by entering a number with a decimal point or by using operations that result in a non-integer number."
   ]
  },
  {
   "cell_type": "code",
   "execution_count": null,
   "metadata": {},
   "outputs": [],
   "source": [
    "x = 10.5\n",
    "y = 3 / 6\n",
    "z = 1.5e2  # Scientific notation for 150.0\n",
    "\n",
    "print(f\"{x} is of type {type(x)}\")\n",
    "print(f\"{y} is of type {type(y)}\")\n",
    "print(f\"{z} is of type {type(z)}\")"
   ]
  },
  {
   "cell_type": "markdown",
   "metadata": {},
   "source": [
    "<br>\n",
    "\n",
    "---\n",
    "\n",
    "<br>"
   ]
  },
  {
   "cell_type": "markdown",
   "metadata": {},
   "source": [
    "### Precision and Representation\n",
    "\n",
    "- Python floats have a limited precision of up to 15-17 decimal places. Beyond this, they may result in rounding errors.\n",
    "\n",
    "- Floats are internally represented in binary, which means some numbers can't be precisely represented. This leads to issues like 0.1 + 0.2 != 0.3."
   ]
  },
  {
   "cell_type": "code",
   "execution_count": null,
   "metadata": {},
   "outputs": [],
   "source": [
    "print(0.1 + 0.2 == 0.3)"
   ]
  },
  {
   "cell_type": "markdown",
   "metadata": {},
   "source": [
    "This is what the result of the calculation becomes when represented in binary (and why the code above returns False):"
   ]
  },
  {
   "cell_type": "code",
   "execution_count": null,
   "metadata": {},
   "outputs": [],
   "source": [
    "print(0.1 + 0.2)"
   ]
  },
  {
   "cell_type": "markdown",
   "metadata": {},
   "source": [
    "<br>\n",
    "\n",
    "---\n",
    "\n",
    "<br>"
   ]
  },
  {
   "cell_type": "markdown",
   "metadata": {},
   "source": [
    "### Arithmetic Operations with Floats\n",
    "\n",
    "Floats support standard arithmetic operations similar to [integers](#integers): addition, subtraction, multiplication, division, etc. However, division with floats always results in a float, even if the division is exact."
   ]
  },
  {
   "cell_type": "markdown",
   "metadata": {},
   "source": [
    "<br>\n",
    "\n",
    "---\n",
    "\n",
    "<br>"
   ]
  },
  {
   "cell_type": "markdown",
   "metadata": {},
   "source": [
    "### Float Conversion and Casting\n",
    "\n",
    "You can convert other data types to floats using the float() function. This is useful for converting integers or strings to floats."
   ]
  },
  {
   "cell_type": "code",
   "execution_count": null,
   "metadata": {},
   "outputs": [],
   "source": [
    "int_number = 7\n",
    "print(float(int_number))  # Converts int to float\n",
    "\n",
    "string_number = \"3.14\"\n",
    "print(float(string_number))  # Converts string to float"
   ]
  },
  {
   "cell_type": "markdown",
   "metadata": {},
   "source": [
    "<br>\n",
    "\n",
    "---\n",
    "\n",
    "<br>"
   ]
  },
  {
   "cell_type": "markdown",
   "metadata": {},
   "source": [
    "### Floating-Point Functions\n"
   ]
  },
  {
   "cell_type": "markdown",
   "metadata": {},
   "source": [
    "\n",
    "#### round()\n",
    "\n",
    "- Description: Rounds a float to a specified number of decimal places.\n",
    "  \n",
    "- Template: `round(number[, ndigits])` "
   ]
  },
  {
   "cell_type": "code",
   "execution_count": null,
   "metadata": {},
   "outputs": [],
   "source": [
    "x = 3.14159\n",
    "\n",
    "# Round to two decimal places\n",
    "rounded_x = round(x, 2)\n",
    "\n",
    "print(rounded_x)  # 3.14"
   ]
  },
  {
   "cell_type": "markdown",
   "metadata": {},
   "source": [
    "<br>\n",
    "\n",
    "#### abs()\n",
    "\n",
    "- Description: Returns the absolute value of a float.\n",
    "\n",
    "- Template: `abs(x)`"
   ]
  },
  {
   "cell_type": "code",
   "execution_count": null,
   "metadata": {},
   "outputs": [],
   "source": [
    "y = -5.67\n",
    "\n",
    "# Absolute value\n",
    "absolute_y = abs(y)\n",
    "print(absolute_y)  # 5.67"
   ]
  },
  {
   "cell_type": "markdown",
   "metadata": {},
   "source": [
    "<br>\n",
    "\n",
    "---\n",
    "\n",
    "<br>"
   ]
  },
  {
   "cell_type": "markdown",
   "metadata": {},
   "source": [
    "### Comparing Floats\n",
    "\n",
    "Due to precision issues, comparing floats for equality can be unreliable. Instead, it's often recommended to check if they are close enough within a small margin."
   ]
  },
  {
   "cell_type": "code",
   "execution_count": null,
   "metadata": {},
   "outputs": [],
   "source": [
    "x = 0.1 + 0.2\n",
    "y = 0.3\n",
    "\n",
    "# Recommended way to compare floats for equality\n",
    "print(math.isclose(x, y))"
   ]
  },
  {
   "cell_type": "markdown",
   "metadata": {},
   "source": [
    "- Be cautious with arithmetic operations, as they might lead to rounding errors.\n",
    "\n",
    "- For precise decimal arithmetic, use the `decimal` module."
   ]
  },
  {
   "cell_type": "markdown",
   "metadata": {},
   "source": [
    "<br>\n",
    "\n",
    "---\n",
    "\n",
    "<br>"
   ]
  },
  {
   "cell_type": "markdown",
   "metadata": {
    "editable": true,
    "slideshow": {
     "slide_type": ""
    },
    "tags": []
   },
   "source": [
    "## Decimal Module\n",
    "\n",
    "Python's decimal module offers a Decimal datatype for decimal floating-point arithmetic. Compared to the built-in float type, Decimal is more precise and suitable for critical financial and scientific calculations that require exact decimal representation.\n",
    "\n",
    "<br>"
   ]
  },
  {
   "cell_type": "markdown",
   "metadata": {},
   "source": [
    "### Why Use the Decimal Module?\n",
    "\n",
    "- Precision: Offers user-defined precision which is greater than the standard floating-point representation.\n",
    "    \n",
    "- Accurate Arithmetic: Ensures precise arithmetic operations, avoiding common floating-point errors like rounding.\n",
    "    \n",
    "- Context and Control: Allows control over rounding, error handling, and other aspects of arithmetic operations."
   ]
  },
  {
   "cell_type": "markdown",
   "metadata": {},
   "source": [
    "<br>\n",
    "\n",
    "---\n",
    "\n",
    "<br>"
   ]
  },
  {
   "cell_type": "markdown",
   "metadata": {},
   "source": [
    "### Using the Decimal Module\n",
    "\n",
    "To use the Decimal type, you first need to import the decimal module and then create Decimal objects."
   ]
  },
  {
   "cell_type": "code",
   "execution_count": null,
   "metadata": {},
   "outputs": [],
   "source": [
    "from decimal import Decimal\n",
    "\n",
    "# Creating Decimal objects\n",
    "x = Decimal(\"0.1\")\n",
    "y = Decimal(\"0.2\")\n",
    "\n",
    "z = x + y  # Precise addition\n",
    "\n",
    "print(z)  # 0.3"
   ]
  },
  {
   "cell_type": "markdown",
   "metadata": {},
   "source": [
    "<br>"
   ]
  },
  {
   "cell_type": "markdown",
   "metadata": {},
   "source": [
    "Note: It's recommended to create Decimal objects from strings or integers, not from floats, to avoid inheriting the inaccuracy of floats."
   ]
  },
  {
   "cell_type": "markdown",
   "metadata": {},
   "source": [
    "<br>\n",
    "\n",
    "---\n",
    "\n",
    "<br>"
   ]
  },
  {
   "cell_type": "markdown",
   "metadata": {},
   "source": [
    "### Adjusting Precision with getcontext()\n",
    "\n",
    "You can change the precision of calculations globally using getcontext().prec. This affects all Decimal operations done in that context."
   ]
  },
  {
   "cell_type": "code",
   "execution_count": null,
   "metadata": {},
   "outputs": [],
   "source": [
    "from decimal import Decimal, getcontext\n",
    "\n",
    "# Setting precision to 4 decimal places\n",
    "getcontext().prec = 4\n",
    "result = Decimal(\"1.12345\") + Decimal(\"2.98765\")\n",
    "\n",
    "print(result)  # 4.111"
   ]
  },
  {
   "cell_type": "markdown",
   "metadata": {},
   "source": [
    "<br>\n",
    "\n",
    "---\n",
    "\n",
    "<br>"
   ]
  },
  {
   "cell_type": "markdown",
   "metadata": {},
   "source": [
    "### The Quantize Method\n",
    "\n",
    "The quantize method in the decimal module is used to round a Decimal object to a fixed number of decimal places. This method is similar to specifying a format for the number but also allows you to determine the rounding mode."
   ]
  },
  {
   "cell_type": "code",
   "execution_count": null,
   "metadata": {},
   "outputs": [],
   "source": [
    "Decimal.quantize(exp, rounding=None)"
   ]
  },
  {
   "cell_type": "markdown",
   "metadata": {},
   "source": [
    "- exp: A Decimal instance specifying the exponent (or number of decimal places) to which you want to round.\n",
    "\n",
    "- rounding (optional): Specifies the rounding mode. If omitted, the rounding mode from the current context is used."
   ]
  },
  {
   "cell_type": "markdown",
   "metadata": {},
   "source": [
    "<br>\n",
    "\n",
    "---\n",
    "\n",
    "<br>"
   ]
  },
  {
   "cell_type": "markdown",
   "metadata": {},
   "source": [
    "#### exp Argument\n",
    "\n",
    "The value you pass as the exp argument in the quantize method defines the precision of rounding:\n",
    "\n",
    "<br>"
   ]
  },
  {
   "cell_type": "markdown",
   "metadata": {},
   "source": [
    "`Decimal(\"0.1\")` for one decimal place."
   ]
  },
  {
   "cell_type": "code",
   "execution_count": null,
   "metadata": {},
   "outputs": [],
   "source": [
    "from decimal import Decimal\n",
    "\n",
    "number = Decimal(\"3.14159\")\n",
    "print(number.quantize(Decimal(\"0.1\")))"
   ]
  },
  {
   "cell_type": "markdown",
   "metadata": {},
   "source": [
    "<br>"
   ]
  },
  {
   "cell_type": "markdown",
   "metadata": {},
   "source": [
    "`Decimal(\"0.01\")` for two decimal places."
   ]
  },
  {
   "cell_type": "code",
   "execution_count": null,
   "metadata": {},
   "outputs": [],
   "source": [
    "from decimal import Decimal\n",
    "\n",
    "number = Decimal(\"3.14159\")\n",
    "print(number.quantize(Decimal(\"0.01\")))"
   ]
  },
  {
   "cell_type": "markdown",
   "metadata": {},
   "source": [
    "<br>"
   ]
  },
  {
   "cell_type": "markdown",
   "metadata": {},
   "source": [
    "`Decimal(\"0.001\")` for three decimal places (etc.)."
   ]
  },
  {
   "cell_type": "code",
   "execution_count": null,
   "metadata": {},
   "outputs": [],
   "source": [
    "from decimal import Decimal\n",
    "\n",
    "number = Decimal(\"3.14159\")\n",
    "print(number.quantize(Decimal(\"0.01\")))"
   ]
  },
  {
   "cell_type": "markdown",
   "metadata": {},
   "source": [
    "<br>"
   ]
  },
  {
   "cell_type": "markdown",
   "metadata": {},
   "source": [
    "`Decimal(\"1\")` for rounding to an integer."
   ]
  },
  {
   "cell_type": "code",
   "execution_count": null,
   "metadata": {},
   "outputs": [],
   "source": [
    "from decimal import Decimal\n",
    "\n",
    "number = Decimal(\"3.14159\")\n",
    "print(number.quantize(Decimal(\"1\")))"
   ]
  },
  {
   "cell_type": "markdown",
   "metadata": {},
   "source": [
    "<br>"
   ]
  },
  {
   "cell_type": "markdown",
   "metadata": {},
   "source": [
    "`Decimal(\"1E1\")` for rounding to the nearest ten."
   ]
  },
  {
   "cell_type": "code",
   "execution_count": null,
   "metadata": {},
   "outputs": [],
   "source": [
    "from decimal import Decimal\n",
    "\n",
    "number = Decimal(\"3.14159\")\n",
    "print(number.quantize(Decimal(\"1E1\")))"
   ]
  },
  {
   "cell_type": "markdown",
   "metadata": {},
   "source": [
    "<br>"
   ]
  },
  {
   "cell_type": "markdown",
   "metadata": {},
   "source": [
    "`Decimal(\"1E2\")` for rounding to the nearest hundred (etc.)."
   ]
  },
  {
   "cell_type": "code",
   "execution_count": null,
   "metadata": {},
   "outputs": [],
   "source": [
    "from decimal import Decimal\n",
    "\n",
    "number = Decimal(\"3.14159\")\n",
    "print(number.quantize(Decimal(\"1E2\")))"
   ]
  },
  {
   "cell_type": "markdown",
   "metadata": {},
   "source": [
    "<br>\n",
    "\n",
    "---\n",
    "\n",
    "<br>"
   ]
  },
  {
   "cell_type": "markdown",
   "metadata": {},
   "source": [
    "#### rounding Argument\n",
    "\n",
    "Each rounding mode defines a different strategy for handling the fractional part of the number when rounding to the specified number of decimal places. Here are a few examples:\n",
    "\n",
    "<br>"
   ]
  },
  {
   "cell_type": "markdown",
   "metadata": {},
   "source": [
    "`ROUND_DOWN`\n",
    "\n",
    "This mode rounds towards zero. It decreases the magnitude of the number, making it closer to zero.\n",
    "\n",
    "- Positive numbers are rounded down (towards zero).\n",
    "\n",
    "- Negative numbers are rounded up (towards zero)."
   ]
  },
  {
   "cell_type": "code",
   "execution_count": null,
   "metadata": {},
   "outputs": [],
   "source": [
    "from decimal import ROUND_DOWN\n",
    "\n",
    "number = Decimal(\"3.14159\")\n",
    "print(number.quantize(Decimal(\"0.01\"), rounding=ROUND_DOWN))"
   ]
  },
  {
   "cell_type": "markdown",
   "metadata": {},
   "source": [
    "<br>"
   ]
  },
  {
   "cell_type": "markdown",
   "metadata": {},
   "source": [
    "`ROUND_UP`\n",
    "\n",
    "This mode rounds away from zero. It increases the magnitude of the number, regardless of whether the number is positive or negative.\n",
    "\n",
    "- Positive numbers are rounded up (away from zero).\n",
    "\n",
    "- Negative numbers are also rounded up (more negative)."
   ]
  },
  {
   "cell_type": "code",
   "execution_count": null,
   "metadata": {},
   "outputs": [],
   "source": [
    "from decimal import Decimal, ROUND_UP\n",
    "\n",
    "number = Decimal(\"-3.14159\")\n",
    "print(number.quantize(Decimal(\"0.01\"), rounding=ROUND_UP))"
   ]
  },
  {
   "cell_type": "markdown",
   "metadata": {},
   "source": [
    "<br>"
   ]
  },
  {
   "cell_type": "markdown",
   "metadata": {},
   "source": [
    "`ROUND_CEILING`\n",
    "\n",
    "This mode rounds towards positive infinity. It always rounds in the direction of increasing value.\n",
    "\n",
    "- Positive numbers are rounded up.\n",
    "\n",
    "- Negative numbers are rounded up (towards zero)."
   ]
  },
  {
   "cell_type": "code",
   "execution_count": null,
   "metadata": {},
   "outputs": [],
   "source": [
    "from decimal import ROUND_CEILING\n",
    "\n",
    "number = Decimal(\"3.14159\")\n",
    "print(number.quantize(Decimal(\"0.01\"), rounding=ROUND_CEILING))"
   ]
  },
  {
   "cell_type": "markdown",
   "metadata": {},
   "source": [
    "<br>"
   ]
  },
  {
   "cell_type": "markdown",
   "metadata": {},
   "source": [
    "`ROUND_FLOOR`\n",
    "\n",
    "This mode rounds towards negative infinity. It always rounds in the direction of decreasing value.\n",
    "\n",
    "- Positive numbers are rounded down.\n",
    "\n",
    "- Negative numbers are rounded down (more negative)."
   ]
  },
  {
   "cell_type": "code",
   "execution_count": null,
   "metadata": {},
   "outputs": [],
   "source": [
    "from decimal import ROUND_FLOOR\n",
    "\n",
    "number = Decimal(\"3.14159\")\n",
    "print(number.quantize(Decimal(\"0.01\"), rounding=ROUND_FLOOR))"
   ]
  },
  {
   "cell_type": "markdown",
   "metadata": {},
   "source": [
    "<br>"
   ]
  },
  {
   "cell_type": "markdown",
   "metadata": {},
   "source": [
    "`ROUND_HALF_UP`\n",
    "\n",
    "This mode rounds to the nearest number with ties rounding away from zero.\n",
    "\n",
    "- If the last significant digit is greater than or equal to 5, round up.\n",
    "\n",
    "- Otherwise, round down."
   ]
  },
  {
   "cell_type": "code",
   "execution_count": null,
   "metadata": {},
   "outputs": [],
   "source": [
    "from decimal import ROUND_HALF_UP\n",
    "\n",
    "number = Decimal(\"3.14159\")\n",
    "print(number.quantize(Decimal(\"0.01\"), rounding=ROUND_HALF_UP))"
   ]
  },
  {
   "cell_type": "markdown",
   "metadata": {},
   "source": [
    "<br>"
   ]
  },
  {
   "cell_type": "markdown",
   "metadata": {},
   "source": [
    "`ROUND_HALF_DOWN`\n",
    "\n",
    "This mode rounds to the nearest number with ties rounding towards zero.\n",
    "\n",
    "- If the last significant digit is greater than 5, round up.\n",
    "\n",
    "- If the last significant digit is 5, round down.\n",
    "\n",
    "- Otherwise, round down."
   ]
  },
  {
   "cell_type": "code",
   "execution_count": null,
   "metadata": {},
   "outputs": [],
   "source": [
    "from decimal import ROUND_HALF_DOWN\n",
    "\n",
    "number = Decimal(\"3.14159\")\n",
    "print(number.quantize(Decimal(\"0.01\"), rounding=ROUND_HALF_DOWN))"
   ]
  },
  {
   "cell_type": "markdown",
   "metadata": {},
   "source": [
    "<br>"
   ]
  },
  {
   "cell_type": "markdown",
   "metadata": {},
   "source": [
    "`ROUND_HALF_EVEN`\n",
    "\n",
    "Also known as \"bankers' rounding\". This mode rounds to the nearest number with ties rounding to the nearest even number.\n",
    "\n",
    "- If the last significant digit is greater than 5, or is 5 and the preceding significant digit is odd, round up.\n",
    "\n",
    "- Otherwise, round down."
   ]
  },
  {
   "cell_type": "code",
   "execution_count": null,
   "metadata": {},
   "outputs": [],
   "source": [
    "from decimal import ROUND_HALF_EVEN\n",
    "\n",
    "number = Decimal(\"3.14159\")\n",
    "print(number.quantize(Decimal(\"0.01\"), rounding=ROUND_HALF_EVEN))"
   ]
  },
  {
   "cell_type": "markdown",
   "metadata": {},
   "source": [
    "<br>"
   ]
  },
  {
   "cell_type": "markdown",
   "metadata": {},
   "source": [
    "`ROUND_05UP`\n",
    "\n",
    "This mode is less common. It rounds away from zero only if the last digit is 0 or 5.\n",
    "\n",
    "- If the last significant digit is 0 or 5, round up.\n",
    "\n",
    "- Otherwise, round down."
   ]
  },
  {
   "cell_type": "code",
   "execution_count": null,
   "metadata": {},
   "outputs": [],
   "source": [
    "from decimal import ROUND_05UP\n",
    "\n",
    "number = Decimal(\"3.14159\")\n",
    "print(number.quantize(Decimal(\"0.01\"), rounding=ROUND_05UP))"
   ]
  },
  {
   "cell_type": "markdown",
   "metadata": {},
   "source": [
    "<br>\n",
    "\n",
    "---\n",
    "\n",
    "<br>"
   ]
  },
  {
   "cell_type": "markdown",
   "metadata": {},
   "source": [
    "### Changing Rounding in Context\n",
    "\n",
    "You can also change the rounding mode for all operations in a context."
   ]
  },
  {
   "cell_type": "code",
   "execution_count": null,
   "metadata": {},
   "outputs": [],
   "source": [
    "from decimal import Decimal, getcontext\n",
    "\n",
    "getcontext().rounding = ROUND_HALF_EVEN\n",
    "result = Decimal(\"2.65\") + Decimal(\"2.65\")\n",
    "\n",
    "print(result)  # Outputs '5.30' with ROUND_HALF_EVEN rounding"
   ]
  },
  {
   "cell_type": "markdown",
   "metadata": {},
   "source": [
    "<br>\n",
    "\n",
    "---\n",
    "\n",
    "<br>"
   ]
  },
  {
   "cell_type": "markdown",
   "metadata": {},
   "source": [
    "### Using Local Context\n",
    "\n",
    "For temporary changes, use a local context, which won't affect the global settings."
   ]
  },
  {
   "cell_type": "code",
   "execution_count": null,
   "metadata": {},
   "outputs": [],
   "source": [
    "from decimal import localcontext\n",
    "\n",
    "with localcontext() as ctx:\n",
    "    ctx.prec = 2\n",
    "    result = Decimal(\"1.123\") + Decimal(\"2.987\")\n",
    "    print(result)  # Outputs '4.1' in this local context\n",
    "\n",
    "# Outside the local context, global settings apply\n",
    "result_global = Decimal(\"1.123\") + Decimal(\"2.987\")\n",
    "print(result_global)  # Precision from global context"
   ]
  },
  {
   "cell_type": "markdown",
   "metadata": {},
   "source": [
    "<br>\n",
    "\n",
    "---\n",
    "\n",
    "<br>"
   ]
  },
  {
   "cell_type": "markdown",
   "metadata": {},
   "source": [
    "### Enabling Traps\n",
    "\n",
    "You can enable traps to raise exceptions for certain conditions, like overflow, underflow, or division by zero."
   ]
  },
  {
   "cell_type": "code",
   "execution_count": null,
   "metadata": {},
   "outputs": [],
   "source": [
    "from decimal import DivisionByZero, Overflow\n",
    "\n",
    "getcontext().traps[DivisionByZero] = True\n",
    "getcontext().traps[Overflow] = True\n",
    "\n",
    "# Attempting a division by zero will now raise an exception\n",
    "try:\n",
    "    result = Decimal(\"1\") / Decimal(\"0\")\n",
    "except DivisionByZero:\n",
    "    print(\"Division by zero error!\")"
   ]
  },
  {
   "cell_type": "markdown",
   "metadata": {},
   "source": [
    "<br>\n",
    "\n",
    "---\n",
    "\n",
    "<br>"
   ]
  },
  {
   "cell_type": "markdown",
   "metadata": {},
   "source": [
    "## Boolean\n",
    "\n",
    "Booleans in Python are a data type that can hold one of two possible values: True or False. They are fundamental in programming for making decisions and controlling the flow of a program."
   ]
  },
  {
   "cell_type": "markdown",
   "metadata": {},
   "source": [
    "<br>\n",
    "\n",
    "---\n",
    "\n",
    "<br>"
   ]
  },
  {
   "cell_type": "markdown",
   "metadata": {},
   "source": [
    "#### Creating A Boolean\n",
    "\n",
    "Booleans can be created directly by assigning the True or False values. They can also result from comparison and logical operations."
   ]
  },
  {
   "cell_type": "code",
   "execution_count": null,
   "metadata": {},
   "outputs": [],
   "source": [
    "is_active = True\n",
    "is_greater = 5 > 3  # True"
   ]
  },
  {
   "cell_type": "markdown",
   "metadata": {},
   "source": [
    "<br>\n",
    "\n",
    "---\n",
    "\n",
    "<br>"
   ]
  },
  {
   "cell_type": "markdown",
   "metadata": {},
   "source": [
    "#### Boolean Operators\n",
    "\n",
    "Booleans are often used with logical operators to form more complex expressions:\n",
    "\n",
    "- `and`: True if both operands are True, otherwise False.\n",
    "\n",
    "- `or`: True if at least one of the operands is True.\n",
    "\n",
    "- `not`: Inverts the Boolean value."
   ]
  },
  {
   "cell_type": "code",
   "execution_count": null,
   "metadata": {},
   "outputs": [],
   "source": [
    "a = True\n",
    "b = False\n",
    "\n",
    "print(a and b) # False\n",
    "print(a or b) # True\n",
    "print(not a) # False"
   ]
  },
  {
   "cell_type": "markdown",
   "metadata": {},
   "source": [
    "<br>\n",
    "\n",
    "---\n",
    "\n",
    "<br>"
   ]
  },
  {
   "cell_type": "markdown",
   "metadata": {},
   "source": [
    "#### Truthiness in Python\n",
    "\n",
    "In Python, certain values are considered \"Falsy\" and others \"Truthy.\" This concept is important for control structures like if statements.\n",
    "\n",
    "- Falsy Values: Include `None`, `False`, `0`, empty sequences and collections (`''`, `()`, `[]`, `{}`), and objects of classes that define a `__bool__` method that returns `False` or a `__len__` method that returns `0`.\n",
    "  \n",
    "- Truthy Values: All other values are considered \"Truthy\"."
   ]
  },
  {
   "cell_type": "code",
   "execution_count": null,
   "metadata": {},
   "outputs": [],
   "source": [
    "if []:  # This is Falsy\n",
    "    print(\"This won't print.\")\n",
    "\n",
    "if \"Hello\":  # This is Truthy\n",
    "    print(\"This will print.\")"
   ]
  },
  {
   "cell_type": "markdown",
   "metadata": {},
   "source": [
    "<br>\n",
    "\n",
    "---\n",
    "\n",
    "<br>"
   ]
  },
  {
   "cell_type": "markdown",
   "metadata": {},
   "source": [
    "## Strings\n",
    "\n",
    "Strings in Python are sequences of characters used to store and represent text-based information. They are created by enclosing characters in single, double, or triple quotes."
   ]
  },
  {
   "cell_type": "code",
   "execution_count": null,
   "metadata": {},
   "outputs": [],
   "source": [
    "simple_string = 'Hello'\n",
    "double_quotes = \"Hello\"\n",
    "triple_quotes = '''Hello'''"
   ]
  },
  {
   "cell_type": "markdown",
   "metadata": {},
   "source": [
    "<br>\n",
    "\n",
    "---\n",
    "\n",
    "<br>"
   ]
  },
  {
   "cell_type": "markdown",
   "metadata": {},
   "source": [
    "#### String Concatenation and Repetition\n",
    "\n",
    "- Concatenation: Joining of two or more strings (+).\n",
    "\n",
    "- Repetition: Repeating a string multiple times (*)."
   ]
  },
  {
   "cell_type": "code",
   "execution_count": null,
   "metadata": {},
   "outputs": [],
   "source": [
    "# Concatenation\n",
    "greeting = 'Hello' + ' ' + 'World'\n",
    "print(greeting)\n",
    "\n",
    "# Repetition\n",
    "greetings = 'Hello ' * 3\n",
    "print(greetings)"
   ]
  },
  {
   "cell_type": "markdown",
   "metadata": {},
   "source": [
    "<br>\n",
    "\n",
    "---\n",
    "\n",
    "<br>"
   ]
  },
  {
   "cell_type": "markdown",
   "metadata": {},
   "source": [
    "#### Accessing and Slicing Strings\n",
    "\n",
    "- Access individual characters using indexing [].\n",
    "\n",
    "- Slice strings using [start:stop:step]."
   ]
  },
  {
   "cell_type": "code",
   "execution_count": null,
   "metadata": {},
   "outputs": [],
   "source": [
    "word = \"Python\"\n",
    "print(word[0])    # First character\n",
    "print(word[-1])   # Last character\n",
    "print(word[1:4])  # Substring from index 1 to 3"
   ]
  },
  {
   "cell_type": "markdown",
   "metadata": {},
   "source": [
    "<br>\n",
    "\n",
    "---\n",
    "\n",
    "<br>"
   ]
  },
  {
   "cell_type": "markdown",
   "metadata": {},
   "source": [
    "### String Methods\n",
    "\n",
    "String methods in Python are built-in functions that are specifically designed to perform various operations on strings\n",
    "\n",
    "Each string method typically operates on a string object and returns a new string as a result, reflecting the changes made by the operation. It's important to note that strings in Python are immutable, meaning that they cannot be changed after they are created.  "
   ]
  },
  {
   "cell_type": "markdown",
   "metadata": {},
   "source": [
    "<br>\n",
    "\n",
    "---\n",
    "\n",
    "<br>"
   ]
  },
  {
   "cell_type": "markdown",
   "metadata": {},
   "source": [
    "#### capitalize()\n",
    "\n",
    "- Description: Converts the first character to uppercase and the rest to lowercase.\n",
    "\n",
    "- Template: str.capitalize()\n",
    "\n",
    "- No args"
   ]
  },
  {
   "cell_type": "code",
   "execution_count": null,
   "metadata": {},
   "outputs": [],
   "source": [
    "\"hello\".capitalize()  # 'Hello'"
   ]
  },
  {
   "cell_type": "markdown",
   "metadata": {},
   "source": [
    "<br>"
   ]
  },
  {
   "cell_type": "markdown",
   "metadata": {},
   "source": [
    "#### casefold()\n",
    "\n",
    "- Description: Returns a casefolded copy of the string, used for caseless matching.\n",
    "\n",
    "- Template: `str.casefold()`\n",
    "\n",
    "- No args"
   ]
  },
  {
   "cell_type": "code",
   "execution_count": null,
   "metadata": {},
   "outputs": [],
   "source": [
    "\"HELLO\".casefold()  # 'hello'"
   ]
  },
  {
   "cell_type": "markdown",
   "metadata": {},
   "source": [
    "<br>"
   ]
  },
  {
   "cell_type": "markdown",
   "metadata": {},
   "source": [
    "#### center()\n",
    "\n",
    "- Description: Centers the string in a field of specified width, padding it with fillchar (default is a space).\n",
    "\n",
    "- Template: `str.center(width, fillchar=' ')`\n",
    "\n",
    "- `width`: The total width of the new string.\n",
    "\n",
    "- `fillchar` (optional): The character used for padding. Default is a space."
   ]
  },
  {
   "cell_type": "code",
   "execution_count": null,
   "metadata": {},
   "outputs": [],
   "source": [
    "\"hello\".center(11, '-')  # '---hello---'"
   ]
  },
  {
   "cell_type": "markdown",
   "metadata": {},
   "source": [
    "<br>"
   ]
  },
  {
   "cell_type": "markdown",
   "metadata": {},
   "source": [
    "#### count()\n",
    "\n",
    "- Description: Returns the number of occurrences of a substring in the string.\n",
    "\n",
    "- Template: `str.count(sub, start=0, end=len(str))`\n",
    "\n",
    "- `sub`: The substring to count within the string.\n",
    "\n",
    "- `start` (optional): The starting index to begin search.\n",
    "\n",
    "- `end` (optional): The ending index to end search."
   ]
  },
  {
   "cell_type": "code",
   "execution_count": null,
   "metadata": {},
   "outputs": [],
   "source": [
    "\"hello\".count('l')  # 2"
   ]
  },
  {
   "cell_type": "markdown",
   "metadata": {},
   "source": [
    "<br>"
   ]
  },
  {
   "cell_type": "markdown",
   "metadata": {},
   "source": [
    "#### encode()\n",
    "\n",
    "- Description: Encodes the string to the specified encoding.\n",
    "\n",
    "- Template: `str.encode(encoding='utf-8', errors='strict')`\n",
    "\n",
    "- `encoding` (optional): The encoding type (e.g., 'utf-8').\n",
    "\n",
    "- `errors` (optional): Specifies how to handle encoding errors"
   ]
  },
  {
   "cell_type": "code",
   "execution_count": null,
   "metadata": {},
   "outputs": [],
   "source": [
    "\"hello\".encode()  # b'hello'"
   ]
  },
  {
   "cell_type": "markdown",
   "metadata": {},
   "source": [
    "<br>"
   ]
  },
  {
   "cell_type": "markdown",
   "metadata": {},
   "source": [
    "#### endswith()\n",
    "\n",
    "- Description: Checks if the string ends with the specified suffix.\n",
    "\n",
    "- Template: `str.endswith(suffix, start=0, end=len(str))`\n",
    "\n",
    "- `suffix`: The substring to check if the string ends with.\n",
    "\n",
    "- `start` (optional): The starting index to begin search.\n",
    "\n",
    "- `end` (optional): The ending index to end search."
   ]
  },
  {
   "cell_type": "code",
   "execution_count": null,
   "metadata": {},
   "outputs": [],
   "source": [
    "\"hello\".endswith('o')  # True"
   ]
  },
  {
   "cell_type": "markdown",
   "metadata": {},
   "source": [
    "<br>"
   ]
  },
  {
   "cell_type": "markdown",
   "metadata": {},
   "source": [
    "#### expandtabs()\n",
    "\n",
    "- Description: Replaces tabs in the string with the specified number of spaces.\n",
    "\n",
    "- Template: `str.expandtabs(tabsize=8)`\n",
    "\n",
    "- `tabsize` (optional): The number of spaces to replace each tab character. Default is 8."
   ]
  },
  {
   "cell_type": "code",
   "execution_count": null,
   "metadata": {},
   "outputs": [],
   "source": [
    "\"hello\\tworld\".expandtabs(4)  # 'hello   world'"
   ]
  },
  {
   "cell_type": "markdown",
   "metadata": {},
   "source": [
    "<br>"
   ]
  },
  {
   "cell_type": "markdown",
   "metadata": {},
   "source": [
    "#### find()\n",
    "\n",
    "- Description: Returns the lowest index of the substring if found, otherwise -1.\n",
    "\n",
    "- Template: `str.find(sub, start=0, end=len(str))`\n",
    "\n",
    "- `sub`: The substring to search for.\n",
    "\n",
    "- `start` (optional): The starting index to begin search.\n",
    "\n",
    "- `end` (optional): The ending index to end search."
   ]
  },
  {
   "cell_type": "code",
   "execution_count": null,
   "metadata": {},
   "outputs": [],
   "source": [
    "\"hello\".find('e')  # 1"
   ]
  },
  {
   "cell_type": "markdown",
   "metadata": {},
   "source": [
    "<br>"
   ]
  },
  {
   "cell_type": "markdown",
   "metadata": {},
   "source": [
    "#### format()\n",
    "\n",
    "- Description: Formats the string using the provided positional and keyword arguments.\n",
    "\n",
    "- Template: `str.format(*args, **kwargs)`\n",
    "\n",
    "- `*args`: Positional arguments to be formatted into the string.\n",
    "\n",
    "- `**kwargs`: Keyword arguments to be formatted into the string.\n"
   ]
  },
  {
   "cell_type": "code",
   "execution_count": null,
   "metadata": {},
   "outputs": [],
   "source": [
    "\"Hello, {}\".format(\"world\")  # 'Hello, world'"
   ]
  },
  {
   "cell_type": "markdown",
   "metadata": {},
   "source": [
    "<br>"
   ]
  },
  {
   "cell_type": "markdown",
   "metadata": {},
   "source": [
    "#### format_map()\n",
    "\n",
    "- Description: Formats the string using a dictionary of replacements.\n",
    "\n",
    "- Template: `str.format_map(mapping)`\n",
    "\n",
    "- `mapping`: A dictionary or object with key-value pairs used for formatting."
   ]
  },
  {
   "cell_type": "code",
   "execution_count": null,
   "metadata": {},
   "outputs": [],
   "source": [
    "\"Hello, {name}\".format_map({'name': 'world'})  # 'Hello, world'"
   ]
  },
  {
   "cell_type": "markdown",
   "metadata": {},
   "source": [
    "<br>"
   ]
  },
  {
   "cell_type": "markdown",
   "metadata": {},
   "source": [
    "#### index()\n",
    "\n",
    "- Description: Returns the lowest index of the substring if found, raises ValueError otherwise.\n",
    "\n",
    "- Template: `str.index(sub, start=0, end=len(str))`\n",
    "\n",
    "- `sub`: The substring to search for.\n",
    "\n",
    "- `start` (optional): The starting index to begin search.\n",
    "\n",
    "- `end` (optional): The ending index to end search."
   ]
  },
  {
   "cell_type": "code",
   "execution_count": null,
   "metadata": {},
   "outputs": [],
   "source": [
    "\"hello\".index('h')  # 0"
   ]
  },
  {
   "cell_type": "code",
   "execution_count": null,
   "metadata": {},
   "outputs": [],
   "source": [
    "\"world\".index(\"d\")  # 4"
   ]
  },
  {
   "cell_type": "markdown",
   "metadata": {},
   "source": [
    "<br>"
   ]
  },
  {
   "cell_type": "markdown",
   "metadata": {},
   "source": [
    "#### isalnum()\n",
    "\n",
    "- Description: Checks if all characters in the string are alphanumeric (no special characters).\n",
    "\n",
    "- Template: `str.isalnum()`\n",
    "\n",
    "- No args"
   ]
  },
  {
   "cell_type": "code",
   "execution_count": null,
   "metadata": {},
   "outputs": [],
   "source": [
    "\"hello123\".isalnum() # True"
   ]
  },
  {
   "cell_type": "code",
   "execution_count": null,
   "metadata": {},
   "outputs": [],
   "source": [
    "\"hello!\".isalnum() # False"
   ]
  },
  {
   "cell_type": "markdown",
   "metadata": {},
   "source": [
    "<br>"
   ]
  },
  {
   "cell_type": "markdown",
   "metadata": {},
   "source": [
    "#### isalpha()\n",
    "\n",
    "- Description: Checks if all characters in the string are alphabetic.\n",
    "\n",
    "- Template: `str.isalpha()`\n",
    "\n",
    "- No args"
   ]
  },
  {
   "cell_type": "code",
   "execution_count": null,
   "metadata": {},
   "outputs": [],
   "source": [
    "\"hello\".isalpha()  # True"
   ]
  },
  {
   "cell_type": "code",
   "execution_count": null,
   "metadata": {},
   "outputs": [],
   "source": [
    "\"123\".isalpha()  # False"
   ]
  },
  {
   "cell_type": "markdown",
   "metadata": {},
   "source": [
    "<br>"
   ]
  },
  {
   "cell_type": "markdown",
   "metadata": {},
   "source": [
    "#### isascii()\n",
    "\n",
    "- Description: Checks if all characters in the string are ASCII (empty strings are valid).\n",
    "\n",
    "- Template: `str.isascii()`\n",
    "\n",
    "- No args"
   ]
  },
  {
   "cell_type": "code",
   "execution_count": null,
   "metadata": {},
   "outputs": [],
   "source": [
    "\"hello\".isascii()  # True"
   ]
  },
  {
   "cell_type": "code",
   "execution_count": null,
   "metadata": {},
   "outputs": [],
   "source": [
    "\"\".isascii() # True"
   ]
  },
  {
   "cell_type": "markdown",
   "metadata": {},
   "source": [
    "<br>"
   ]
  },
  {
   "cell_type": "markdown",
   "metadata": {},
   "source": [
    "#### isdecimal()\n",
    "\n",
    "- Description: Checks if all characters in the string are decimal characters (Does not check if the string is a float).\n",
    "\n",
    "- Template: `str.isdecimal()`\n",
    "\n",
    "- No args"
   ]
  },
  {
   "cell_type": "code",
   "execution_count": null,
   "metadata": {},
   "outputs": [],
   "source": [
    "\"123\".isdecimal()  # True"
   ]
  },
  {
   "cell_type": "code",
   "execution_count": null,
   "metadata": {},
   "outputs": [],
   "source": [
    "\"3.14\".isdecimal() # False"
   ]
  },
  {
   "cell_type": "markdown",
   "metadata": {},
   "source": [
    "<br>"
   ]
  },
  {
   "cell_type": "markdown",
   "metadata": {},
   "source": [
    "#### isdigit()\n",
    "\n",
    "- Description: Checks if all characters in the string are digits.\n",
    "\n",
    "- Template: `str.isdigit()`\n",
    "\n",
    "- No args"
   ]
  },
  {
   "cell_type": "code",
   "execution_count": null,
   "metadata": {},
   "outputs": [],
   "source": [
    "\"123\".isdigit()  # True"
   ]
  },
  {
   "cell_type": "code",
   "execution_count": null,
   "metadata": {},
   "outputs": [],
   "source": [
    "\"one23\".isdigit() # False"
   ]
  },
  {
   "cell_type": "markdown",
   "metadata": {},
   "source": [
    "<br>"
   ]
  },
  {
   "cell_type": "markdown",
   "metadata": {},
   "source": [
    "#### isidentifier()\n",
    "\n",
    "- Description: Checks if the string is a valid identifier.\n",
    "\n",
    "- Template: `str.isidentifier()`\n",
    "\n",
    "- No args"
   ]
  },
  {
   "cell_type": "code",
   "execution_count": null,
   "metadata": {},
   "outputs": [],
   "source": [
    "\"hello\".isidentifier()  # True"
   ]
  },
  {
   "cell_type": "code",
   "execution_count": null,
   "metadata": {},
   "outputs": [],
   "source": [
    "\"2morrow\".isidentifier()  # False (starts with number)"
   ]
  },
  {
   "cell_type": "markdown",
   "metadata": {},
   "source": [
    "<br>"
   ]
  },
  {
   "cell_type": "markdown",
   "metadata": {},
   "source": [
    "#### islower()\n",
    "\n",
    "- Description: Checks if all cased characters in the string are lowercase.\n",
    "\n",
    "- Template: `str.islower()`\n",
    "\n",
    "- No args"
   ]
  },
  {
   "cell_type": "code",
   "execution_count": null,
   "metadata": {},
   "outputs": [],
   "source": [
    "\"hello\".islower()  # True"
   ]
  },
  {
   "cell_type": "code",
   "execution_count": null,
   "metadata": {},
   "outputs": [],
   "source": [
    "\"Hello\".islower()  # False"
   ]
  },
  {
   "cell_type": "markdown",
   "metadata": {},
   "source": [
    "<br>"
   ]
  },
  {
   "cell_type": "markdown",
   "metadata": {},
   "source": [
    "#### isnumeric()\n",
    "\n",
    "- Description: Checks if all characters in the string are numeric characters.\n",
    "\n",
    "- Template: `str.isnumeric()`\n",
    "\n",
    "- No args"
   ]
  },
  {
   "cell_type": "code",
   "execution_count": null,
   "metadata": {},
   "outputs": [],
   "source": [
    "\"123\".isnumeric()  # True"
   ]
  },
  {
   "cell_type": "code",
   "execution_count": null,
   "metadata": {},
   "outputs": [],
   "source": [
    "\"onetwothree\".isnumeric()  # False"
   ]
  },
  {
   "cell_type": "markdown",
   "metadata": {},
   "source": [
    "<br>"
   ]
  },
  {
   "cell_type": "markdown",
   "metadata": {},
   "source": [
    "#### isprintable()\n",
    "\n",
    "- Description: Checks if all characters in the string are printable or the string is empty.\n",
    "\n",
    "- Template: `str.isprintable()`\n",
    "\n",
    "- No args"
   ]
  },
  {
   "cell_type": "code",
   "execution_count": null,
   "metadata": {},
   "outputs": [],
   "source": [
    "\"hello\".isprintable()  # True"
   ]
  },
  {
   "cell_type": "code",
   "execution_count": null,
   "metadata": {},
   "outputs": [],
   "source": [
    "\"\\n\".isprintable()  # False"
   ]
  },
  {
   "cell_type": "markdown",
   "metadata": {},
   "source": [
    "<br>"
   ]
  },
  {
   "cell_type": "markdown",
   "metadata": {},
   "source": [
    "#### isspace()\n",
    "\n",
    "- Description: Checks if all characters in the string are whitespace characters.\n",
    "\n",
    "- Template: `str.isspace()`\n",
    "\n",
    "- No args"
   ]
  },
  {
   "cell_type": "code",
   "execution_count": null,
   "metadata": {},
   "outputs": [],
   "source": [
    "\" \".isspace()  # True"
   ]
  },
  {
   "cell_type": "code",
   "execution_count": null,
   "metadata": {},
   "outputs": [],
   "source": [
    "\"_ \".isspace()  # False"
   ]
  },
  {
   "cell_type": "markdown",
   "metadata": {},
   "source": [
    "<br>"
   ]
  },
  {
   "cell_type": "markdown",
   "metadata": {},
   "source": [
    "#### istitle()\n",
    "\n",
    "- Description: Checks if the string is titled (first character in each word is uppercase, the rest lowercase).\n",
    "\n",
    "- Template: `str.istitle()`\n",
    "\n",
    "- No args"
   ]
  },
  {
   "cell_type": "code",
   "execution_count": null,
   "metadata": {},
   "outputs": [],
   "source": [
    "\"Hello World\".istitle()  # True"
   ]
  },
  {
   "cell_type": "code",
   "execution_count": null,
   "metadata": {},
   "outputs": [],
   "source": [
    "\"hello world\".istitle()  # False"
   ]
  },
  {
   "cell_type": "markdown",
   "metadata": {},
   "source": [
    "<br>"
   ]
  },
  {
   "cell_type": "markdown",
   "metadata": {},
   "source": [
    "#### isupper()\n",
    "\n",
    "- Description: Checks if all cased characters in the string are uppercase.\n",
    "\n",
    "- Template: `str.isupper()`\n",
    "\n",
    "- No args"
   ]
  },
  {
   "cell_type": "code",
   "execution_count": null,
   "metadata": {},
   "outputs": [],
   "source": [
    "\"HELLO\".isupper()  # True"
   ]
  },
  {
   "cell_type": "code",
   "execution_count": null,
   "metadata": {},
   "outputs": [],
   "source": [
    "\"hello\".isupper()  # False"
   ]
  },
  {
   "cell_type": "markdown",
   "metadata": {},
   "source": [
    "<br>"
   ]
  },
  {
   "cell_type": "markdown",
   "metadata": {},
   "source": [
    "#### join()\n",
    "\n",
    "- Description: Joins the elements of an iterable (such as a list) into a string.\n",
    "\n",
    "- Template: `str.join(iterable)`\n",
    "\n",
    "- No args"
   ]
  },
  {
   "cell_type": "code",
   "execution_count": null,
   "metadata": {},
   "outputs": [],
   "source": [
    "\" \".join([\"Hello\", \"World\"])  # 'Hello World'"
   ]
  },
  {
   "cell_type": "code",
   "execution_count": null,
   "metadata": {},
   "outputs": [],
   "source": [
    "\"-\".join([\"1\", \"2\", \"3\"])  # 1-2-3"
   ]
  },
  {
   "cell_type": "markdown",
   "metadata": {},
   "source": [
    "<br>"
   ]
  },
  {
   "cell_type": "markdown",
   "metadata": {},
   "source": [
    "#### ljust()\n",
    "\n",
    "- Description: Left-justifies the string in a field of specified width, padding it with fillchar.\n",
    "\n",
    "- Template: `str.ljust(width, fillchar=' ')`\n",
    "\n",
    "- `width`: The total width of the new string.\n",
    "\n",
    "- `fillchar` (optional): The character used for padding. Default is a space."
   ]
  },
  {
   "cell_type": "code",
   "execution_count": null,
   "metadata": {},
   "outputs": [],
   "source": [
    "\"hello\".ljust(12, \"-\")  # 'hello-----'"
   ]
  },
  {
   "cell_type": "code",
   "execution_count": null,
   "metadata": {},
   "outputs": [],
   "source": [
    "\"Empty space ->\".ljust(25, \" \")"
   ]
  },
  {
   "cell_type": "markdown",
   "metadata": {},
   "source": [
    "<br>"
   ]
  },
  {
   "cell_type": "markdown",
   "metadata": {},
   "source": [
    "#### lower()\n",
    "\n",
    "- Description: Converts all characters in the string to lowercase.\n",
    "\n",
    "- Template: `str.lower()`\n",
    "\n",
    "- No args"
   ]
  },
  {
   "cell_type": "code",
   "execution_count": null,
   "metadata": {},
   "outputs": [],
   "source": [
    "\"HELLO\".lower()  # 'hello'"
   ]
  },
  {
   "cell_type": "code",
   "execution_count": null,
   "metadata": {},
   "outputs": [],
   "source": [
    "\"Python\".lower()  # 'python'"
   ]
  },
  {
   "cell_type": "markdown",
   "metadata": {},
   "source": [
    "<br>"
   ]
  },
  {
   "cell_type": "markdown",
   "metadata": {},
   "source": [
    "#### lstrip()\n",
    "\n",
    "- Description: Removes leading characters (defaults to spaces).\n",
    "\n",
    "- Template: `str.lstrip(chars=None)`\n",
    "\n",
    "- `chars` (optional): The set of characters to remove from the beginning of the string"
   ]
  },
  {
   "cell_type": "code",
   "execution_count": null,
   "metadata": {},
   "outputs": [],
   "source": [
    "\"   hello\".lstrip()  # 'hello'"
   ]
  },
  {
   "cell_type": "code",
   "execution_count": null,
   "metadata": {},
   "outputs": [],
   "source": [
    "\"hello world\".lstrip(\"hello \")  # 'world'"
   ]
  },
  {
   "cell_type": "markdown",
   "metadata": {},
   "source": [
    "<br>"
   ]
  },
  {
   "cell_type": "markdown",
   "metadata": {},
   "source": [
    "#### maketrans()\n",
    "\n",
    "- Description: Creates a translation table for use with translate().\n",
    "\n",
    "- Template: `str.maketrans(x, y=None, z=None)`\n",
    "\n",
    "- `x`: If only x is provided, it must be a dictionary.\n",
    "\n",
    "- `y` (optional): If x and y are provided, they must be strings of equal length.\n",
    "\n",
    "- `z` (optional): A string where each character in the string is to be removed from the string."
   ]
  },
  {
   "cell_type": "code",
   "execution_count": null,
   "metadata": {},
   "outputs": [],
   "source": [
    "transtable = str.maketrans(\"aeiou\", \"12345\")\n",
    "\"hello\".translate(transtable)  # 'h2ll4'"
   ]
  },
  {
   "cell_type": "markdown",
   "metadata": {},
   "source": [
    "<br>"
   ]
  },
  {
   "cell_type": "markdown",
   "metadata": {},
   "source": [
    "#### partition()\n",
    "\n",
    "- Description: Splits the string at the first occurrence of sep.\n",
    "\n",
    "- Template: `str.partition(sep)`\n",
    "\n",
    "- `sep`: The separator at which to split the string."
   ]
  },
  {
   "cell_type": "code",
   "execution_count": null,
   "metadata": {},
   "outputs": [],
   "source": [
    "\"hello-world\".partition(\"-\")  # ('hello', '-', 'world')"
   ]
  },
  {
   "cell_type": "markdown",
   "metadata": {},
   "source": [
    "<br>"
   ]
  },
  {
   "cell_type": "markdown",
   "metadata": {},
   "source": [
    "#### replace()\n",
    "\n",
    "- Description: Replaces occurrences of a substring within the string.\n",
    "\n",
    "- Template: `str.replace(old, new, count=-1)`\n",
    "\n",
    "- `old`: The substring to be replaced.\n",
    "\n",
    "- `new`: The substring to replace with.\n",
    "\n",
    "- `count` (optional): The maximum number of occurrences to replace."
   ]
  },
  {
   "cell_type": "code",
   "execution_count": null,
   "metadata": {},
   "outputs": [],
   "source": [
    "\"hello\".replace('ll', 'r')  # 'hero'"
   ]
  },
  {
   "cell_type": "code",
   "execution_count": null,
   "metadata": {},
   "outputs": [],
   "source": [
    "\"hello world\".replace(\"hello \", \"\")  # 'world'"
   ]
  },
  {
   "cell_type": "markdown",
   "metadata": {},
   "source": [
    "<br>"
   ]
  },
  {
   "cell_type": "markdown",
   "metadata": {},
   "source": [
    "#### rfind()\n",
    "\n",
    "- Description: Returns the highest index of the substring if found, otherwise -1.\n",
    "\n",
    "- Template: `str.rfind(sub, start=0, end=len(str))`\n",
    "\n",
    "- `sub`: The substring to search for.\n",
    "\n",
    "- `start` (optional): The starting index to begin search.\n",
    "\n",
    "- `end` (optional): The ending index to end search."
   ]
  },
  {
   "cell_type": "code",
   "execution_count": null,
   "metadata": {},
   "outputs": [],
   "source": [
    "\"hello\".rfind(\"l\")  # 3"
   ]
  },
  {
   "cell_type": "code",
   "execution_count": null,
   "metadata": {},
   "outputs": [],
   "source": [
    "\"python\".rfind(\"x\")  # -1"
   ]
  },
  {
   "cell_type": "markdown",
   "metadata": {},
   "source": [
    "<br>"
   ]
  },
  {
   "cell_type": "markdown",
   "metadata": {},
   "source": [
    "#### rindex()\n",
    "\n",
    "- Description: Returns the highest index of the substring if found, raises ValueError otherwise.\n",
    "\n",
    "- Template: `str.rindex(sub, start=0, end=len(str))`\n",
    "\n",
    "- `sub`: The substring to search for.\n",
    "\n",
    "- `start` (optional): The starting index to begin search.\n",
    "\n",
    "- `end` (optional): The ending index to end search."
   ]
  },
  {
   "cell_type": "code",
   "execution_count": null,
   "metadata": {},
   "outputs": [],
   "source": [
    "\"hello\".rindex(\"l\")  # 3"
   ]
  },
  {
   "cell_type": "code",
   "execution_count": null,
   "metadata": {},
   "outputs": [],
   "source": [
    "\"vivid\".rindex(\"vi\")  # 2"
   ]
  },
  {
   "cell_type": "markdown",
   "metadata": {},
   "source": [
    "<br>"
   ]
  },
  {
   "cell_type": "markdown",
   "metadata": {},
   "source": [
    "#### rjust()\n",
    "\n",
    "- Description: Right-justifies the string in a field of specified width, padding it with fillchar.\n",
    "\n",
    "- Template: `str.rjust(width, fillchar=' ')`\n",
    "\n",
    "- `width`: The total width of the new string.\n",
    "\n",
    "- `fillchar` (optional): The character used for padding. Default is a space."
   ]
  },
  {
   "cell_type": "code",
   "execution_count": null,
   "metadata": {},
   "outputs": [],
   "source": [
    "\"hello\".rjust(10, '-')  # '-----hello'"
   ]
  },
  {
   "cell_type": "code",
   "execution_count": null,
   "metadata": {},
   "outputs": [],
   "source": [
    "\"<- Empty space\".rjust(25, \" \")"
   ]
  },
  {
   "cell_type": "markdown",
   "metadata": {},
   "source": [
    "<br>"
   ]
  },
  {
   "cell_type": "markdown",
   "metadata": {},
   "source": [
    "#### rpartition()\n",
    "\n",
    "- Description: Splits the string at the last occurrence of sep.\n",
    "\n",
    "- Template: `str.rpartition(sep)`\n",
    "\n",
    "- `sep`: The separator at which to split the string."
   ]
  },
  {
   "cell_type": "code",
   "execution_count": null,
   "metadata": {},
   "outputs": [],
   "source": [
    "\"1-2-3\".rpartition(\"-\")  # ('1-2', '-', '3')"
   ]
  },
  {
   "cell_type": "markdown",
   "metadata": {},
   "source": [
    "<br>"
   ]
  },
  {
   "cell_type": "markdown",
   "metadata": {},
   "source": [
    "#### rsplit()\n",
    "\n",
    "- Description: Splits the string from the right at the specified separator.\n",
    "\n",
    "- Template: `str.rsplit(sep=None, maxsplit=-1)`\n",
    "\n",
    "- `sep` (optional): The separator at which to split the string. Default is any whitespace.\n",
    "\n",
    "- `maxsplit` (optional): The maximum number of splits."
   ]
  },
  {
   "cell_type": "code",
   "execution_count": null,
   "metadata": {},
   "outputs": [],
   "source": [
    "\"hello world hi\".rsplit(None, 1)  # ['hello world', 'hi']"
   ]
  },
  {
   "cell_type": "markdown",
   "metadata": {},
   "source": [
    "<br>"
   ]
  },
  {
   "cell_type": "markdown",
   "metadata": {},
   "source": [
    "#### rstrip()\n",
    "\n",
    "- Description: Removes trailing characters (defaults to spaces).\n",
    "\n",
    "- Template: `str.rstrip(chars=None)`\n",
    "\n",
    "- `chars` (optional): The set of characters to remove from the end of the string."
   ]
  },
  {
   "cell_type": "code",
   "execution_count": null,
   "metadata": {},
   "outputs": [],
   "source": [
    "\"hello   \".rstrip()  # 'hello'"
   ]
  },
  {
   "cell_type": "code",
   "execution_count": null,
   "metadata": {},
   "outputs": [],
   "source": [
    "\"hello world\".rstrip(\"world\")  # 'hello '"
   ]
  },
  {
   "cell_type": "markdown",
   "metadata": {},
   "source": [
    "<br>"
   ]
  },
  {
   "cell_type": "markdown",
   "metadata": {},
   "source": [
    "#### split()\n",
    "\n",
    "- Description: Splits the string at the specified separator.\n",
    "\n",
    "- Template: `str.split(sep=None, maxsplit=-1)`\n",
    "\n",
    "- `sep` (optional): The separator at which to split the string. Default is any whitespace.\n",
    "\n",
    "- `maxsplit` (optional): The maximum number of splits."
   ]
  },
  {
   "cell_type": "code",
   "execution_count": null,
   "metadata": {},
   "outputs": [],
   "source": [
    "\"hello world\".split()  # ['hello', 'world']"
   ]
  },
  {
   "cell_type": "markdown",
   "metadata": {},
   "source": [
    "<br>"
   ]
  },
  {
   "cell_type": "markdown",
   "metadata": {},
   "source": [
    "#### splitlines()\n",
    "\n",
    "- Description: Splits the string at line breaks.\n",
    "\n",
    "- Template: `str.splitlines(keepends=False)`\n",
    "\n",
    "- `keepends` (optional): Whether to retain line breaks in the resulting list. Default is False."
   ]
  },
  {
   "cell_type": "code",
   "execution_count": null,
   "metadata": {},
   "outputs": [],
   "source": [
    "\"hello\\nworld\".splitlines()  # ['hello', 'world']"
   ]
  },
  {
   "cell_type": "markdown",
   "metadata": {},
   "source": [
    "<br>"
   ]
  },
  {
   "cell_type": "markdown",
   "metadata": {},
   "source": [
    "#### startswith()\n",
    "\n",
    "- Description: Checks if the string starts with the specified prefix.\n",
    "\n",
    "- Template: `str.startswith(prefix, start=0, end=len(str))`\n",
    "\n",
    "- `prefix`: The substring to check if the string starts with.\n",
    "\n",
    "- `start` (optional): The starting index to begin search.\n",
    "\n",
    "- `end` (optional): The ending index to end search."
   ]
  },
  {
   "cell_type": "code",
   "execution_count": null,
   "metadata": {},
   "outputs": [],
   "source": [
    "\"hello\".startswith(\"h\")  # True"
   ]
  },
  {
   "cell_type": "code",
   "execution_count": null,
   "metadata": {},
   "outputs": [],
   "source": [
    "\"Python\".startswith(\"J\")  # False"
   ]
  },
  {
   "cell_type": "markdown",
   "metadata": {},
   "source": [
    "<br>"
   ]
  },
  {
   "cell_type": "markdown",
   "metadata": {},
   "source": [
    "#### strip()\n",
    "\n",
    "- Description: Removes leading and trailing characters (defaults to spaces).\n",
    "\n",
    "- Template: `str.strip(chars=None)`\n",
    "\n",
    "- `chars` (optional): The set of characters to remove from both ends of the string."
   ]
  },
  {
   "cell_type": "code",
   "execution_count": null,
   "metadata": {},
   "outputs": [],
   "source": [
    "\"   hello   \".strip()  # 'hello'"
   ]
  },
  {
   "cell_type": "markdown",
   "metadata": {},
   "source": [
    "<br>"
   ]
  },
  {
   "cell_type": "markdown",
   "metadata": {},
   "source": [
    "#### swapcase()\n",
    "\n",
    "- Description: Swaps the case of all characters in the string (uppercase to lowercase and vice versa).\n",
    "\n",
    "- Template: `str.swapcase()`\n",
    "\n",
    "- No args"
   ]
  },
  {
   "cell_type": "code",
   "execution_count": null,
   "metadata": {},
   "outputs": [],
   "source": [
    "\"Hello World\".swapcase()  # 'hELLO wORLD'"
   ]
  },
  {
   "cell_type": "markdown",
   "metadata": {},
   "source": [
    "<br>"
   ]
  },
  {
   "cell_type": "markdown",
   "metadata": {},
   "source": [
    "#### title()\n",
    "\n",
    "- Description: Returns a title-cased version of the string.\n",
    "\n",
    "- Template: `str.title()`\n",
    "\n",
    "- No args"
   ]
  },
  {
   "cell_type": "code",
   "execution_count": null,
   "metadata": {},
   "outputs": [],
   "source": [
    "\"hello world\".title()  # 'Hello World'"
   ]
  },
  {
   "cell_type": "markdown",
   "metadata": {},
   "source": [
    "<br>"
   ]
  },
  {
   "cell_type": "markdown",
   "metadata": {},
   "source": [
    "#### translate()\n",
    "\n",
    "- Description: Translates the string using the provided translation table.\n",
    "\n",
    "- Template: `str.translate(table)`\n",
    "\n",
    "- `table`: The translation table to use, typically created by maketrans."
   ]
  },
  {
   "cell_type": "code",
   "execution_count": null,
   "metadata": {},
   "outputs": [],
   "source": [
    "transtable = str.maketrans(\"aeiou\", \"12345\")\n",
    "\"hello\".translate(transtable)  # 'h2ll4'"
   ]
  },
  {
   "cell_type": "markdown",
   "metadata": {},
   "source": [
    "<br>"
   ]
  },
  {
   "cell_type": "markdown",
   "metadata": {},
   "source": [
    "#### upper()\n",
    "\n",
    "- Description: Converts all characters in the string to uppercase.\n",
    "\n",
    "- Template: `str.upper()`\n",
    "\n",
    "- No args"
   ]
  },
  {
   "cell_type": "code",
   "execution_count": null,
   "metadata": {},
   "outputs": [],
   "source": [
    "\"hello\".upper()  # 'HELLO'"
   ]
  },
  {
   "cell_type": "markdown",
   "metadata": {},
   "source": [
    "<br>"
   ]
  },
  {
   "cell_type": "markdown",
   "metadata": {},
   "source": [
    "#### zfill()\n",
    "\n",
    "- Description: Pads the string on the left with zeros to fill the width.\n",
    "\n",
    "- Template: `str.zfill(width)`\n",
    "\n",
    "- `width` The total width of the new string, padded with zeros."
   ]
  },
  {
   "cell_type": "code",
   "execution_count": null,
   "metadata": {},
   "outputs": [],
   "source": [
    "\"42\".zfill(5)  # '00042'"
   ]
  },
  {
   "cell_type": "markdown",
   "metadata": {},
   "source": [
    "<br>\n",
    "\n",
    "---\n",
    "\n",
    "<br>"
   ]
  },
  {
   "cell_type": "markdown",
   "metadata": {},
   "source": [
    "## Operators\n",
    "\n",
    "Operators in Python are special symbols or keywords that carry out arithmetic or logical computation, acting upon operands to produce a result."
   ]
  },
  {
   "cell_type": "markdown",
   "metadata": {},
   "source": [
    "<br>\n",
    "\n",
    "---\n",
    "\n",
    "<br>"
   ]
  },
  {
   "cell_type": "markdown",
   "metadata": {},
   "source": [
    "### Arithmetic Operators\n",
    "\n",
    "Arithmetic operators in Python are used to perform mathematical operations like addition, subtraction, multiplication, and division. They are fundamental to any kind of numerical manipulation in Python programming."
   ]
  },
  {
   "cell_type": "markdown",
   "metadata": {},
   "source": [
    "<br>"
   ]
  },
  {
   "cell_type": "markdown",
   "metadata": {},
   "source": [
    "#### Addition (+)\n",
    "\n",
    "Adds two operands."
   ]
  },
  {
   "cell_type": "code",
   "execution_count": null,
   "metadata": {},
   "outputs": [],
   "source": [
    "print(5 + 3)  # 8"
   ]
  },
  {
   "cell_type": "markdown",
   "metadata": {},
   "source": [
    "<br>"
   ]
  },
  {
   "cell_type": "markdown",
   "metadata": {},
   "source": [
    "#### Subtraction (-)\n",
    "\n",
    "Subtracts the right operand from the left operand."
   ]
  },
  {
   "cell_type": "code",
   "execution_count": null,
   "metadata": {},
   "outputs": [],
   "source": [
    "print(5 - 3)  # 2"
   ]
  },
  {
   "cell_type": "markdown",
   "metadata": {},
   "source": [
    "<br>"
   ]
  },
  {
   "cell_type": "markdown",
   "metadata": {},
   "source": [
    "#### Multiplication (*)\n",
    "\n",
    "Multiplies two operands."
   ]
  },
  {
   "cell_type": "code",
   "execution_count": null,
   "metadata": {},
   "outputs": [],
   "source": [
    "print(5 * 3)  # 15"
   ]
  },
  {
   "cell_type": "markdown",
   "metadata": {},
   "source": [
    "<br>"
   ]
  },
  {
   "cell_type": "markdown",
   "metadata": {},
   "source": [
    "#### Division()\n",
    "\n",
    "Divides the left operand by the right operand. The result is always a float."
   ]
  },
  {
   "cell_type": "code",
   "execution_count": null,
   "metadata": {},
   "outputs": [],
   "source": [
    "print(5 / 3)  # 1.6666666666666667"
   ]
  },
  {
   "cell_type": "markdown",
   "metadata": {},
   "source": [
    "<br>"
   ]
  },
  {
   "cell_type": "markdown",
   "metadata": {},
   "source": [
    "#### Floor Division (//)\n",
    "\n",
    "Divides the left operand by the right operand, rounding down to the nearest integer."
   ]
  },
  {
   "cell_type": "code",
   "execution_count": null,
   "metadata": {},
   "outputs": [],
   "source": [
    "print(5 // 3)  # 1"
   ]
  },
  {
   "cell_type": "markdown",
   "metadata": {},
   "source": [
    "<br>"
   ]
  },
  {
   "cell_type": "markdown",
   "metadata": {},
   "source": [
    "#### Modulus (%)\n",
    "\n",
    "Returns the remainder of the division of the left operand by the right operand."
   ]
  },
  {
   "cell_type": "code",
   "execution_count": null,
   "metadata": {},
   "outputs": [],
   "source": [
    "print(5 % 3)  # 2"
   ]
  },
  {
   "cell_type": "markdown",
   "metadata": {},
   "source": [
    "<br>"
   ]
  },
  {
   "cell_type": "markdown",
   "metadata": {},
   "source": [
    "#### Exponentiation (**): \n",
    "\n",
    "Raises the left operand to the power of the right operand."
   ]
  },
  {
   "cell_type": "code",
   "execution_count": null,
   "metadata": {},
   "outputs": [],
   "source": [
    "print(5 ** 3)  # 125"
   ]
  },
  {
   "cell_type": "markdown",
   "metadata": {},
   "source": [
    "<br>\n",
    "\n",
    "---\n",
    "\n",
    "<br>"
   ]
  },
  {
   "cell_type": "markdown",
   "metadata": {},
   "source": [
    "### Operator Precedence\n",
    "\n",
    "Operator precedence in Python determines the order in which operations are evaluated. For arithmetic operators, exponentiation (**) has the highest precedence, followed by multiplication, division, floor division, and modulus, and finally addition and subtraction."
   ]
  },
  {
   "cell_type": "markdown",
   "metadata": {},
   "source": [
    "<br>\n",
    "\n",
    "---\n",
    "\n",
    "<br>"
   ]
  },
  {
   "cell_type": "markdown",
   "metadata": {},
   "source": [
    "### Complex Expressions\n",
    "\n",
    "In more complex expressions, you can use parentheses to group operations and control the order of evaluation."
   ]
  },
  {
   "cell_type": "code",
   "execution_count": null,
   "metadata": {},
   "outputs": [],
   "source": [
    "result = (5 + 3) * (5 - 3)\n",
    "print(result)  # 16"
   ]
  }
 ],
 "metadata": {
  "kernelspec": {
   "display_name": "Python 3 (ipykernel)",
   "language": "python",
   "name": "python3"
  },
  "language_info": {
   "codemirror_mode": {
    "name": "ipython",
    "version": 3
   },
   "file_extension": ".py",
   "mimetype": "text/x-python",
   "name": "python",
   "nbconvert_exporter": "python",
   "pygments_lexer": "ipython3",
   "version": "3.12.0"
  }
 },
 "nbformat": 4,
 "nbformat_minor": 4
}
